{
 "cells": [
  {
   "cell_type": "markdown",
   "metadata": {},
   "source": [
    "# Police violence in America\n",
    "In the wake of recent protests against police violence, especially against black people, the question arises what numbers can tell us, to proof that cases like the killing of George Floyd are not unique cases. \n",
    "1. Are black people killed more often than other ethnicities regarding population distribution?\n",
    "2. Are there places in America where black people are killed more often? \n",
    "3. How many of the police officers that killed someone were held accountable? \n",
    "4. Can we identify any solutions that seem to lower the number of killings? "
   ]
  },
  {
   "cell_type": "markdown",
   "metadata": {},
   "source": [
    "# Importing data"
   ]
  },
  {
   "cell_type": "code",
   "execution_count": 1,
   "metadata": {},
   "outputs": [],
   "source": [
    "# Install packages\n",
    "import numpy as np\n",
    "import pandas as pd\n",
    "import seaborn as sns\n",
    "import matplotlib.pyplot as plt\n",
    "import matplotlib\n",
    "import plotly.express as px\n",
    "from sklearn.linear_model import LinearRegression\n",
    "from sklearn.model_selection import train_test_split\n",
    "from sklearn.metrics import r2_score, mean_squared_error"
   ]
  },
  {
   "cell_type": "code",
   "execution_count": 2,
   "metadata": {},
   "outputs": [],
   "source": [
    "# Import Dataset from url source \n",
    "url = \"https://mappingpoliceviolence.org/s/MPVDatasetDownload.xlsx\"\n",
    "\n",
    "police_killings = pd.read_excel(url , sheet_name=0)\n",
    "pd_killings = pd.read_excel(url, sheet_name=1)\n",
    "state_killings = pd.read_excel(url, sheet_name=2)\n",
    "blackmen_killings = pd.read_excel(url, sheet_name=3)"
   ]
  },
  {
   "cell_type": "code",
   "execution_count": 3,
   "metadata": {},
   "outputs": [
    {
     "data": {
      "text/html": [
       "<div>\n",
       "<style scoped>\n",
       "    .dataframe tbody tr th:only-of-type {\n",
       "        vertical-align: middle;\n",
       "    }\n",
       "\n",
       "    .dataframe tbody tr th {\n",
       "        vertical-align: top;\n",
       "    }\n",
       "\n",
       "    .dataframe thead th {\n",
       "        text-align: right;\n",
       "    }\n",
       "</style>\n",
       "<table border=\"1\" class=\"dataframe\">\n",
       "  <thead>\n",
       "    <tr style=\"text-align: right;\">\n",
       "      <th></th>\n",
       "      <th>Victim's name</th>\n",
       "      <th>Victim's age</th>\n",
       "      <th>Victim's gender</th>\n",
       "      <th>Victim's race</th>\n",
       "      <th>URL of image of victim</th>\n",
       "      <th>Date of Incident (month/day/year)</th>\n",
       "      <th>Street Address of Incident</th>\n",
       "      <th>City</th>\n",
       "      <th>State</th>\n",
       "      <th>Zipcode</th>\n",
       "      <th>...</th>\n",
       "      <th>Symptoms of mental illness?</th>\n",
       "      <th>Unarmed</th>\n",
       "      <th>Alleged Weapon (Source: WaPo)</th>\n",
       "      <th>Alleged Threat Level (Source: WaPo)</th>\n",
       "      <th>Fleeing (Source: WaPo)</th>\n",
       "      <th>Body Camera (Source: WaPo)</th>\n",
       "      <th>WaPo ID (If included in WaPo database)</th>\n",
       "      <th>Off-Duty Killing?</th>\n",
       "      <th>Geography (via Trulia methodology based on zipcode population density: http://jedkolko.com/wp-content/uploads/2015/05/full-ZCTA-urban-suburban-rural-classification.xlsx )</th>\n",
       "      <th>ID</th>\n",
       "    </tr>\n",
       "  </thead>\n",
       "  <tbody>\n",
       "    <tr>\n",
       "      <th>0</th>\n",
       "      <td>Eric M. Tellez</td>\n",
       "      <td>28</td>\n",
       "      <td>Male</td>\n",
       "      <td>White</td>\n",
       "      <td>https://fatalencounters.org/wp-content/uploads...</td>\n",
       "      <td>2019-12-31</td>\n",
       "      <td>Broad St.</td>\n",
       "      <td>Globe</td>\n",
       "      <td>AZ</td>\n",
       "      <td>85501.0</td>\n",
       "      <td>...</td>\n",
       "      <td>No</td>\n",
       "      <td>Allegedly Armed</td>\n",
       "      <td>knife</td>\n",
       "      <td>other</td>\n",
       "      <td>not fleeing</td>\n",
       "      <td>no</td>\n",
       "      <td>5332.0</td>\n",
       "      <td>NaN</td>\n",
       "      <td>Rural</td>\n",
       "      <td>7664</td>\n",
       "    </tr>\n",
       "    <tr>\n",
       "      <th>1</th>\n",
       "      <td>Name withheld by police</td>\n",
       "      <td>NaN</td>\n",
       "      <td>Male</td>\n",
       "      <td>Unknown race</td>\n",
       "      <td>NaN</td>\n",
       "      <td>2019-12-31</td>\n",
       "      <td>7239-7411 I-40</td>\n",
       "      <td>Memphis</td>\n",
       "      <td>AR</td>\n",
       "      <td>38103.0</td>\n",
       "      <td>...</td>\n",
       "      <td>No</td>\n",
       "      <td>Unclear</td>\n",
       "      <td>unclear</td>\n",
       "      <td>other</td>\n",
       "      <td>NaN</td>\n",
       "      <td>NaN</td>\n",
       "      <td>NaN</td>\n",
       "      <td>NaN</td>\n",
       "      <td>Urban</td>\n",
       "      <td>7665</td>\n",
       "    </tr>\n",
       "    <tr>\n",
       "      <th>2</th>\n",
       "      <td>Terry Hudson</td>\n",
       "      <td>57</td>\n",
       "      <td>Male</td>\n",
       "      <td>Black</td>\n",
       "      <td>NaN</td>\n",
       "      <td>2019-12-31</td>\n",
       "      <td>3600 N 24th St</td>\n",
       "      <td>Omaha</td>\n",
       "      <td>NE</td>\n",
       "      <td>68110.0</td>\n",
       "      <td>...</td>\n",
       "      <td>No</td>\n",
       "      <td>Allegedly Armed</td>\n",
       "      <td>gun</td>\n",
       "      <td>attack</td>\n",
       "      <td>not fleeing</td>\n",
       "      <td>no</td>\n",
       "      <td>5359.0</td>\n",
       "      <td>NaN</td>\n",
       "      <td>Urban</td>\n",
       "      <td>7661</td>\n",
       "    </tr>\n",
       "    <tr>\n",
       "      <th>3</th>\n",
       "      <td>Malik Williams</td>\n",
       "      <td>23</td>\n",
       "      <td>Male</td>\n",
       "      <td>Black</td>\n",
       "      <td>NaN</td>\n",
       "      <td>2019-12-31</td>\n",
       "      <td>30800 14th Avenue South</td>\n",
       "      <td>Federal Way</td>\n",
       "      <td>WA</td>\n",
       "      <td>98003.0</td>\n",
       "      <td>...</td>\n",
       "      <td>No</td>\n",
       "      <td>Allegedly Armed</td>\n",
       "      <td>gun</td>\n",
       "      <td>attack</td>\n",
       "      <td>not fleeing</td>\n",
       "      <td>no</td>\n",
       "      <td>5358.0</td>\n",
       "      <td>NaN</td>\n",
       "      <td>Suburban</td>\n",
       "      <td>7662</td>\n",
       "    </tr>\n",
       "    <tr>\n",
       "      <th>4</th>\n",
       "      <td>Frederick Perkins</td>\n",
       "      <td>37</td>\n",
       "      <td>Male</td>\n",
       "      <td>Black</td>\n",
       "      <td>NaN</td>\n",
       "      <td>2019-12-31</td>\n",
       "      <td>17057 N Outer 40 Rd</td>\n",
       "      <td>Chesterfield</td>\n",
       "      <td>MO</td>\n",
       "      <td>63005.0</td>\n",
       "      <td>...</td>\n",
       "      <td>No</td>\n",
       "      <td>Vehicle</td>\n",
       "      <td>vehicle</td>\n",
       "      <td>attack</td>\n",
       "      <td>car</td>\n",
       "      <td>no</td>\n",
       "      <td>5333.0</td>\n",
       "      <td>NaN</td>\n",
       "      <td>Suburban</td>\n",
       "      <td>7667</td>\n",
       "    </tr>\n",
       "  </tbody>\n",
       "</table>\n",
       "<p>5 rows × 27 columns</p>\n",
       "</div>"
      ],
      "text/plain": [
       "             Victim's name Victim's age Victim's gender Victim's race  \\\n",
       "0           Eric M. Tellez           28            Male         White   \n",
       "1  Name withheld by police          NaN            Male  Unknown race   \n",
       "2             Terry Hudson           57            Male         Black   \n",
       "3           Malik Williams           23            Male         Black   \n",
       "4        Frederick Perkins           37            Male         Black   \n",
       "\n",
       "                              URL of image of victim  \\\n",
       "0  https://fatalencounters.org/wp-content/uploads...   \n",
       "1                                                NaN   \n",
       "2                                                NaN   \n",
       "3                                                NaN   \n",
       "4                                                NaN   \n",
       "\n",
       "  Date of Incident (month/day/year) Street Address of Incident          City  \\\n",
       "0                        2019-12-31                 Broad St.          Globe   \n",
       "1                        2019-12-31             7239-7411 I-40       Memphis   \n",
       "2                        2019-12-31             3600 N 24th St         Omaha   \n",
       "3                        2019-12-31    30800 14th Avenue South   Federal Way   \n",
       "4                        2019-12-31        17057 N Outer 40 Rd  Chesterfield   \n",
       "\n",
       "  State  Zipcode  ... Symptoms of mental illness?          Unarmed  \\\n",
       "0    AZ  85501.0  ...                          No  Allegedly Armed   \n",
       "1    AR  38103.0  ...                          No          Unclear   \n",
       "2    NE  68110.0  ...                          No  Allegedly Armed   \n",
       "3    WA  98003.0  ...                          No  Allegedly Armed   \n",
       "4    MO  63005.0  ...                          No          Vehicle   \n",
       "\n",
       "  Alleged Weapon (Source: WaPo) Alleged Threat Level (Source: WaPo)  \\\n",
       "0                         knife                               other   \n",
       "1                       unclear                               other   \n",
       "2                           gun                              attack   \n",
       "3                           gun                              attack   \n",
       "4                       vehicle                              attack   \n",
       "\n",
       "  Fleeing (Source: WaPo) Body Camera (Source: WaPo)  \\\n",
       "0            not fleeing                         no   \n",
       "1                    NaN                        NaN   \n",
       "2            not fleeing                         no   \n",
       "3            not fleeing                         no   \n",
       "4                    car                         no   \n",
       "\n",
       "  WaPo ID (If included in WaPo database) Off-Duty Killing?  \\\n",
       "0                                 5332.0               NaN   \n",
       "1                                    NaN               NaN   \n",
       "2                                 5359.0               NaN   \n",
       "3                                 5358.0               NaN   \n",
       "4                                 5333.0               NaN   \n",
       "\n",
       "  Geography (via Trulia methodology based on zipcode population density: http://jedkolko.com/wp-content/uploads/2015/05/full-ZCTA-urban-suburban-rural-classification.xlsx )  \\\n",
       "0                                              Rural                                                                                                                           \n",
       "1                                              Urban                                                                                                                           \n",
       "2                                              Urban                                                                                                                           \n",
       "3                                           Suburban                                                                                                                           \n",
       "4                                           Suburban                                                                                                                           \n",
       "\n",
       "     ID  \n",
       "0  7664  \n",
       "1  7665  \n",
       "2  7661  \n",
       "3  7662  \n",
       "4  7667  \n",
       "\n",
       "[5 rows x 27 columns]"
      ]
     },
     "execution_count": 3,
     "metadata": {},
     "output_type": "execute_result"
    }
   ],
   "source": [
    "police_killings.head()"
   ]
  },
  {
   "cell_type": "code",
   "execution_count": 4,
   "metadata": {},
   "outputs": [
    {
     "data": {
      "text/html": [
       "<div>\n",
       "<style scoped>\n",
       "    .dataframe tbody tr th:only-of-type {\n",
       "        vertical-align: middle;\n",
       "    }\n",
       "\n",
       "    .dataframe tbody tr th {\n",
       "        vertical-align: top;\n",
       "    }\n",
       "\n",
       "    .dataframe thead th {\n",
       "        text-align: right;\n",
       "    }\n",
       "</style>\n",
       "<table border=\"1\" class=\"dataframe\">\n",
       "  <thead>\n",
       "    <tr style=\"text-align: right;\">\n",
       "      <th></th>\n",
       "      <th>State</th>\n",
       "      <th>City</th>\n",
       "      <th>PD</th>\n",
       "      <th>Black People Killed by Police (1/1/2013-12/31/2019)</th>\n",
       "      <th>Hispanic People Killed by Police (1/1/2013-12/31/2019)</th>\n",
       "      <th>Native American People Killed by Police (1/1/2013-12/31/2019)</th>\n",
       "      <th>Asian People Killed by Police (1/1/2013-12/31/2019)</th>\n",
       "      <th>Pacific Islanders Killed by Police (1/1/2013-12/31/2019)</th>\n",
       "      <th>White People Killed by Police (1/1/2013-12/31/2019)</th>\n",
       "      <th>Unknown Race People Killed by Police (1/1/2013-12/31/2019)</th>\n",
       "      <th>...</th>\n",
       "      <th>Average Violent Crimes Reported (2013-17)</th>\n",
       "      <th>Violent Crime Rate</th>\n",
       "      <th>2013 Total Arrests (UCR Data)</th>\n",
       "      <th>2014 Total Arrests</th>\n",
       "      <th>2015 Total Arrests</th>\n",
       "      <th>2016 Total Arrests</th>\n",
       "      <th>2017 Total Arrests</th>\n",
       "      <th>2018 Total Arrests</th>\n",
       "      <th>Estimated Average Arrests per Year</th>\n",
       "      <th>Killings by Police per 10k Arrests</th>\n",
       "    </tr>\n",
       "  </thead>\n",
       "  <tbody>\n",
       "    <tr>\n",
       "      <th>0</th>\n",
       "      <td>New Mexico</td>\n",
       "      <td>Albuquerque</td>\n",
       "      <td>Albuquerque Police Department</td>\n",
       "      <td>3.0</td>\n",
       "      <td>18.0</td>\n",
       "      <td>NaN</td>\n",
       "      <td>NaN</td>\n",
       "      <td>NaN</td>\n",
       "      <td>10.0</td>\n",
       "      <td>1.0</td>\n",
       "      <td>...</td>\n",
       "      <td>6040.333333</td>\n",
       "      <td>11.065881</td>\n",
       "      <td>27700.0</td>\n",
       "      <td>25447.0</td>\n",
       "      <td>22126.0</td>\n",
       "      <td>20341.0</td>\n",
       "      <td>21130.0</td>\n",
       "      <td>22254.0</td>\n",
       "      <td>22259.6</td>\n",
       "      <td>14.375820</td>\n",
       "    </tr>\n",
       "    <tr>\n",
       "      <th>1</th>\n",
       "      <td>California</td>\n",
       "      <td>Anaheim</td>\n",
       "      <td>Anaheim Police Department</td>\n",
       "      <td>3.0</td>\n",
       "      <td>7.0</td>\n",
       "      <td>NaN</td>\n",
       "      <td>NaN</td>\n",
       "      <td>NaN</td>\n",
       "      <td>3.0</td>\n",
       "      <td>NaN</td>\n",
       "      <td>...</td>\n",
       "      <td>1192.666667</td>\n",
       "      <td>3.546806</td>\n",
       "      <td>7891.0</td>\n",
       "      <td>8137.0</td>\n",
       "      <td>8381.0</td>\n",
       "      <td>9415.0</td>\n",
       "      <td>8869.0</td>\n",
       "      <td>10019.0</td>\n",
       "      <td>8964.2</td>\n",
       "      <td>14.502131</td>\n",
       "    </tr>\n",
       "    <tr>\n",
       "      <th>2</th>\n",
       "      <td>Alaska</td>\n",
       "      <td>Anchorage</td>\n",
       "      <td>Anchorage Police Department</td>\n",
       "      <td>1.0</td>\n",
       "      <td>1.0</td>\n",
       "      <td>2.0</td>\n",
       "      <td>NaN</td>\n",
       "      <td>NaN</td>\n",
       "      <td>5.0</td>\n",
       "      <td>4.0</td>\n",
       "      <td>...</td>\n",
       "      <td>3179.333333</td>\n",
       "      <td>10.894620</td>\n",
       "      <td>17601.0</td>\n",
       "      <td>14748.0</td>\n",
       "      <td>14387.0</td>\n",
       "      <td>13294.0</td>\n",
       "      <td>13871.0</td>\n",
       "      <td>13973.0</td>\n",
       "      <td>14054.6</td>\n",
       "      <td>9.249641</td>\n",
       "    </tr>\n",
       "    <tr>\n",
       "      <th>3</th>\n",
       "      <td>Texas</td>\n",
       "      <td>Arlington</td>\n",
       "      <td>Arlington Police Department</td>\n",
       "      <td>7.0</td>\n",
       "      <td>1.0</td>\n",
       "      <td>NaN</td>\n",
       "      <td>1.0</td>\n",
       "      <td>NaN</td>\n",
       "      <td>4.0</td>\n",
       "      <td>1.0</td>\n",
       "      <td>...</td>\n",
       "      <td>1921.800000</td>\n",
       "      <td>5.258895</td>\n",
       "      <td>17258.0</td>\n",
       "      <td>16222.0</td>\n",
       "      <td>13989.0</td>\n",
       "      <td>11024.0</td>\n",
       "      <td>8397.0</td>\n",
       "      <td>9566.0</td>\n",
       "      <td>11839.6</td>\n",
       "      <td>11.824724</td>\n",
       "    </tr>\n",
       "    <tr>\n",
       "      <th>4</th>\n",
       "      <td>Georgia</td>\n",
       "      <td>Atlanta</td>\n",
       "      <td>Atlanta Police Department</td>\n",
       "      <td>13.0</td>\n",
       "      <td>NaN</td>\n",
       "      <td>NaN</td>\n",
       "      <td>NaN</td>\n",
       "      <td>NaN</td>\n",
       "      <td>1.0</td>\n",
       "      <td>1.0</td>\n",
       "      <td>...</td>\n",
       "      <td>4956.000000</td>\n",
       "      <td>11.799916</td>\n",
       "      <td>30505.0</td>\n",
       "      <td>26958.0</td>\n",
       "      <td>NaN</td>\n",
       "      <td>22161.0</td>\n",
       "      <td>22581.0</td>\n",
       "      <td>NaN</td>\n",
       "      <td>23900.0</td>\n",
       "      <td>6.276151</td>\n",
       "    </tr>\n",
       "  </tbody>\n",
       "</table>\n",
       "<p>5 rows × 46 columns</p>\n",
       "</div>"
      ],
      "text/plain": [
       "        State         City                             PD  \\\n",
       "0  New Mexico  Albuquerque  Albuquerque Police Department   \n",
       "1  California      Anaheim      Anaheim Police Department   \n",
       "2      Alaska    Anchorage    Anchorage Police Department   \n",
       "3       Texas    Arlington    Arlington Police Department   \n",
       "4     Georgia      Atlanta      Atlanta Police Department   \n",
       "\n",
       "   Black People Killed by Police (1/1/2013-12/31/2019)  \\\n",
       "0                                                3.0     \n",
       "1                                                3.0     \n",
       "2                                                1.0     \n",
       "3                                                7.0     \n",
       "4                                               13.0     \n",
       "\n",
       "   Hispanic People Killed by Police (1/1/2013-12/31/2019)  \\\n",
       "0                                               18.0        \n",
       "1                                                7.0        \n",
       "2                                                1.0        \n",
       "3                                                1.0        \n",
       "4                                                NaN        \n",
       "\n",
       "   Native American People Killed by Police (1/1/2013-12/31/2019)  \\\n",
       "0                                                NaN               \n",
       "1                                                NaN               \n",
       "2                                                2.0               \n",
       "3                                                NaN               \n",
       "4                                                NaN               \n",
       "\n",
       "   Asian People Killed by Police (1/1/2013-12/31/2019)  \\\n",
       "0                                                NaN     \n",
       "1                                                NaN     \n",
       "2                                                NaN     \n",
       "3                                                1.0     \n",
       "4                                                NaN     \n",
       "\n",
       "   Pacific Islanders Killed by Police (1/1/2013-12/31/2019)  \\\n",
       "0                                                NaN          \n",
       "1                                                NaN          \n",
       "2                                                NaN          \n",
       "3                                                NaN          \n",
       "4                                                NaN          \n",
       "\n",
       "   White People Killed by Police (1/1/2013-12/31/2019)  \\\n",
       "0                                               10.0     \n",
       "1                                                3.0     \n",
       "2                                                5.0     \n",
       "3                                                4.0     \n",
       "4                                                1.0     \n",
       "\n",
       "   Unknown Race People Killed by Police (1/1/2013-12/31/2019)  ...  \\\n",
       "0                                                1.0           ...   \n",
       "1                                                NaN           ...   \n",
       "2                                                4.0           ...   \n",
       "3                                                1.0           ...   \n",
       "4                                                1.0           ...   \n",
       "\n",
       "   Average Violent Crimes Reported (2013-17)  Violent Crime Rate  \\\n",
       "0                                6040.333333           11.065881   \n",
       "1                                1192.666667            3.546806   \n",
       "2                                3179.333333           10.894620   \n",
       "3                                1921.800000            5.258895   \n",
       "4                                4956.000000           11.799916   \n",
       "\n",
       "   2013 Total Arrests (UCR Data)  2014 Total Arrests  2015 Total Arrests  \\\n",
       "0                        27700.0             25447.0             22126.0   \n",
       "1                         7891.0              8137.0              8381.0   \n",
       "2                        17601.0             14748.0             14387.0   \n",
       "3                        17258.0             16222.0             13989.0   \n",
       "4                        30505.0             26958.0                 NaN   \n",
       "\n",
       "   2016 Total Arrests  2017 Total Arrests  2018 Total Arrests  \\\n",
       "0             20341.0             21130.0             22254.0   \n",
       "1              9415.0              8869.0             10019.0   \n",
       "2             13294.0             13871.0             13973.0   \n",
       "3             11024.0              8397.0              9566.0   \n",
       "4             22161.0             22581.0                 NaN   \n",
       "\n",
       "   Estimated Average Arrests per Year  Killings by Police per 10k Arrests  \n",
       "0                             22259.6                           14.375820  \n",
       "1                              8964.2                           14.502131  \n",
       "2                             14054.6                            9.249641  \n",
       "3                             11839.6                           11.824724  \n",
       "4                             23900.0                            6.276151  \n",
       "\n",
       "[5 rows x 46 columns]"
      ]
     },
     "execution_count": 4,
     "metadata": {},
     "output_type": "execute_result"
    }
   ],
   "source": [
    "pd_killings.head()"
   ]
  },
  {
   "cell_type": "code",
   "execution_count": 5,
   "metadata": {},
   "outputs": [
    {
     "data": {
      "text/html": [
       "<div>\n",
       "<style scoped>\n",
       "    .dataframe tbody tr th:only-of-type {\n",
       "        vertical-align: middle;\n",
       "    }\n",
       "\n",
       "    .dataframe tbody tr th {\n",
       "        vertical-align: top;\n",
       "    }\n",
       "\n",
       "    .dataframe thead th {\n",
       "        text-align: right;\n",
       "    }\n",
       "</style>\n",
       "<table border=\"1\" class=\"dataframe\">\n",
       "  <thead>\n",
       "    <tr style=\"text-align: right;\">\n",
       "      <th></th>\n",
       "      <th>State</th>\n",
       "      <th>Population</th>\n",
       "      <th>African-American Alone</th>\n",
       "      <th>% African-American</th>\n",
       "      <th>% Victims Black</th>\n",
       "      <th>Disparity</th>\n",
       "      <th># Black people killed</th>\n",
       "      <th># Hispanic people killed</th>\n",
       "      <th># Native American people killed</th>\n",
       "      <th># Asian people killed</th>\n",
       "      <th># Pacific Islanders killed</th>\n",
       "      <th># White people killed</th>\n",
       "      <th># Unknown Race people killed</th>\n",
       "      <th># People Killed</th>\n",
       "      <th>Rate (Black People)</th>\n",
       "      <th>Rate (All People)</th>\n",
       "      <th>Disparity in Rate</th>\n",
       "    </tr>\n",
       "  </thead>\n",
       "  <tbody>\n",
       "    <tr>\n",
       "      <th>0</th>\n",
       "      <td>Alabama</td>\n",
       "      <td>4779736.0</td>\n",
       "      <td>1251311.0</td>\n",
       "      <td>0.261795</td>\n",
       "      <td>0.376812</td>\n",
       "      <td>0.115017</td>\n",
       "      <td>52.0</td>\n",
       "      <td>NaN</td>\n",
       "      <td>NaN</td>\n",
       "      <td>1.0</td>\n",
       "      <td>NaN</td>\n",
       "      <td>73.0</td>\n",
       "      <td>12.0</td>\n",
       "      <td>138.0</td>\n",
       "      <td>5.936631</td>\n",
       "      <td>4.124555</td>\n",
       "      <td>1.439338</td>\n",
       "    </tr>\n",
       "    <tr>\n",
       "      <th>1</th>\n",
       "      <td>Alaska</td>\n",
       "      <td>710231.0</td>\n",
       "      <td>23263.0</td>\n",
       "      <td>0.032754</td>\n",
       "      <td>0.121951</td>\n",
       "      <td>0.089197</td>\n",
       "      <td>5.0</td>\n",
       "      <td>1.0</td>\n",
       "      <td>12.0</td>\n",
       "      <td>NaN</td>\n",
       "      <td>NaN</td>\n",
       "      <td>15.0</td>\n",
       "      <td>8.0</td>\n",
       "      <td>41.0</td>\n",
       "      <td>30.704798</td>\n",
       "      <td>8.246814</td>\n",
       "      <td>3.723232</td>\n",
       "    </tr>\n",
       "    <tr>\n",
       "      <th>2</th>\n",
       "      <td>Arizona</td>\n",
       "      <td>6392017.0</td>\n",
       "      <td>259008.0</td>\n",
       "      <td>0.040521</td>\n",
       "      <td>0.090379</td>\n",
       "      <td>0.049858</td>\n",
       "      <td>31.0</td>\n",
       "      <td>114.0</td>\n",
       "      <td>14.0</td>\n",
       "      <td>NaN</td>\n",
       "      <td>NaN</td>\n",
       "      <td>141.0</td>\n",
       "      <td>43.0</td>\n",
       "      <td>343.0</td>\n",
       "      <td>17.098203</td>\n",
       "      <td>7.665812</td>\n",
       "      <td>2.230449</td>\n",
       "    </tr>\n",
       "    <tr>\n",
       "      <th>3</th>\n",
       "      <td>Arkansas</td>\n",
       "      <td>2915918.0</td>\n",
       "      <td>449895.0</td>\n",
       "      <td>0.154289</td>\n",
       "      <td>0.271845</td>\n",
       "      <td>0.117555</td>\n",
       "      <td>28.0</td>\n",
       "      <td>3.0</td>\n",
       "      <td>NaN</td>\n",
       "      <td>1.0</td>\n",
       "      <td>NaN</td>\n",
       "      <td>59.0</td>\n",
       "      <td>12.0</td>\n",
       "      <td>103.0</td>\n",
       "      <td>8.890963</td>\n",
       "      <td>5.046193</td>\n",
       "      <td>1.761915</td>\n",
       "    </tr>\n",
       "    <tr>\n",
       "      <th>4</th>\n",
       "      <td>California</td>\n",
       "      <td>37253956.0</td>\n",
       "      <td>2299072.0</td>\n",
       "      <td>0.061713</td>\n",
       "      <td>0.156830</td>\n",
       "      <td>0.095116</td>\n",
       "      <td>186.0</td>\n",
       "      <td>489.0</td>\n",
       "      <td>7.0</td>\n",
       "      <td>44.0</td>\n",
       "      <td>9.0</td>\n",
       "      <td>333.0</td>\n",
       "      <td>118.0</td>\n",
       "      <td>1186.0</td>\n",
       "      <td>11.557458</td>\n",
       "      <td>4.547935</td>\n",
       "      <td>2.541254</td>\n",
       "    </tr>\n",
       "  </tbody>\n",
       "</table>\n",
       "</div>"
      ],
      "text/plain": [
       "        State  Population  African-American Alone  % African-American  \\\n",
       "0     Alabama   4779736.0               1251311.0            0.261795   \n",
       "1      Alaska    710231.0                 23263.0            0.032754   \n",
       "2     Arizona   6392017.0                259008.0            0.040521   \n",
       "3    Arkansas   2915918.0                449895.0            0.154289   \n",
       "4  California  37253956.0               2299072.0            0.061713   \n",
       "\n",
       "   % Victims Black  Disparity  # Black people killed  \\\n",
       "0         0.376812   0.115017                   52.0   \n",
       "1         0.121951   0.089197                    5.0   \n",
       "2         0.090379   0.049858                   31.0   \n",
       "3         0.271845   0.117555                   28.0   \n",
       "4         0.156830   0.095116                  186.0   \n",
       "\n",
       "   # Hispanic people killed  # Native American people killed  \\\n",
       "0                       NaN                              NaN   \n",
       "1                       1.0                             12.0   \n",
       "2                     114.0                             14.0   \n",
       "3                       3.0                              NaN   \n",
       "4                     489.0                              7.0   \n",
       "\n",
       "   # Asian people killed  # Pacific Islanders killed  # White people killed  \\\n",
       "0                    1.0                         NaN                   73.0   \n",
       "1                    NaN                         NaN                   15.0   \n",
       "2                    NaN                         NaN                  141.0   \n",
       "3                    1.0                         NaN                   59.0   \n",
       "4                   44.0                         9.0                  333.0   \n",
       "\n",
       "   # Unknown Race people killed  # People Killed  Rate (Black People)  \\\n",
       "0                          12.0            138.0             5.936631   \n",
       "1                           8.0             41.0            30.704798   \n",
       "2                          43.0            343.0            17.098203   \n",
       "3                          12.0            103.0             8.890963   \n",
       "4                         118.0           1186.0            11.557458   \n",
       "\n",
       "   Rate (All People)  Disparity in Rate  \n",
       "0           4.124555           1.439338  \n",
       "1           8.246814           3.723232  \n",
       "2           7.665812           2.230449  \n",
       "3           5.046193           1.761915  \n",
       "4           4.547935           2.541254  "
      ]
     },
     "execution_count": 5,
     "metadata": {},
     "output_type": "execute_result"
    }
   ],
   "source": [
    "state_killings.head()"
   ]
  },
  {
   "cell_type": "code",
   "execution_count": 6,
   "metadata": {},
   "outputs": [
    {
     "data": {
      "text/html": [
       "<div>\n",
       "<style scoped>\n",
       "    .dataframe tbody tr th:only-of-type {\n",
       "        vertical-align: middle;\n",
       "    }\n",
       "\n",
       "    .dataframe tbody tr th {\n",
       "        vertical-align: top;\n",
       "    }\n",
       "\n",
       "    .dataframe thead th {\n",
       "        text-align: right;\n",
       "    }\n",
       "</style>\n",
       "<table border=\"1\" class=\"dataframe\">\n",
       "  <thead>\n",
       "    <tr style=\"text-align: right;\">\n",
       "      <th></th>\n",
       "      <th>City</th>\n",
       "      <th>PD</th>\n",
       "      <th>Black Men Killed by Police (1/1/2013-12/31/2019)</th>\n",
       "      <th>Black Male Population (2015 ACS) (Source: https://factfinder.census.gov/faces/tableservices/jsf/pages/productview.xhtml?pid=ACS_15_5YR_B01001B&amp;prodType=table)</th>\n",
       "      <th>Average Police Homicide Rate for Black Men (per 100,000) (2013-19)</th>\n",
       "    </tr>\n",
       "  </thead>\n",
       "  <tbody>\n",
       "    <tr>\n",
       "      <th>0</th>\n",
       "      <td>Reno</td>\n",
       "      <td>Reno Police Department</td>\n",
       "      <td>3.0</td>\n",
       "      <td>3556.0</td>\n",
       "      <td>12.052065</td>\n",
       "    </tr>\n",
       "    <tr>\n",
       "      <th>1</th>\n",
       "      <td>Oklahoma City</td>\n",
       "      <td>Oklahoma City Police Department</td>\n",
       "      <td>25.0</td>\n",
       "      <td>42192.0</td>\n",
       "      <td>8.464706</td>\n",
       "    </tr>\n",
       "    <tr>\n",
       "      <th>2</th>\n",
       "      <td>Santa Ana</td>\n",
       "      <td>Santa Ana Police Department</td>\n",
       "      <td>1.0</td>\n",
       "      <td>1779.0</td>\n",
       "      <td>8.030194</td>\n",
       "    </tr>\n",
       "    <tr>\n",
       "      <th>3</th>\n",
       "      <td>Anaheim</td>\n",
       "      <td>Anaheim Police Department</td>\n",
       "      <td>2.0</td>\n",
       "      <td>4021.0</td>\n",
       "      <td>7.105553</td>\n",
       "    </tr>\n",
       "    <tr>\n",
       "      <th>4</th>\n",
       "      <td>St. Louis</td>\n",
       "      <td>St. Louis Metropolitan Police Department</td>\n",
       "      <td>34.0</td>\n",
       "      <td>69439.0</td>\n",
       "      <td>6.994834</td>\n",
       "    </tr>\n",
       "  </tbody>\n",
       "</table>\n",
       "</div>"
      ],
      "text/plain": [
       "            City                                        PD  \\\n",
       "0           Reno                    Reno Police Department   \n",
       "1  Oklahoma City           Oklahoma City Police Department   \n",
       "2      Santa Ana               Santa Ana Police Department   \n",
       "3        Anaheim                 Anaheim Police Department   \n",
       "4      St. Louis  St. Louis Metropolitan Police Department   \n",
       "\n",
       "   Black Men Killed by Police (1/1/2013-12/31/2019)  \\\n",
       "0                                               3.0   \n",
       "1                                              25.0   \n",
       "2                                               1.0   \n",
       "3                                               2.0   \n",
       "4                                              34.0   \n",
       "\n",
       "   Black Male Population (2015 ACS) (Source: https://factfinder.census.gov/faces/tableservices/jsf/pages/productview.xhtml?pid=ACS_15_5YR_B01001B&prodType=table)  \\\n",
       "0                                             3556.0                                                                                                                \n",
       "1                                            42192.0                                                                                                                \n",
       "2                                             1779.0                                                                                                                \n",
       "3                                             4021.0                                                                                                                \n",
       "4                                            69439.0                                                                                                                \n",
       "\n",
       "   Average Police Homicide Rate for Black Men (per 100,000) (2013-19)  \n",
       "0                                          12.052065                   \n",
       "1                                           8.464706                   \n",
       "2                                           8.030194                   \n",
       "3                                           7.105553                   \n",
       "4                                           6.994834                   "
      ]
     },
     "execution_count": 6,
     "metadata": {},
     "output_type": "execute_result"
    }
   ],
   "source": [
    "blackmen_killings.head()"
   ]
  },
  {
   "cell_type": "markdown",
   "metadata": {},
   "source": [
    "# Handling missing data"
   ]
  },
  {
   "cell_type": "code",
   "execution_count": 7,
   "metadata": {},
   "outputs": [],
   "source": [
    "def missingdata_stats(lst):\n",
    "    '''\n",
    "    Takes a dataset and prints information with different measures of missing data.\n",
    "\n",
    "    INPUT:\n",
    "        lst (List of pandas.DataFrame): List of uncleaned pandas dataframe after loading.\n",
    "    OUTPUT: \n",
    "        df (pandas.DataFrame): Stats of missing data of dataframe\n",
    "    '''\n",
    "\n",
    "    stats = []\n",
    "    \n",
    "    for df in lst: \n",
    "        # Columns with different values of missing data \n",
    "        zero_missing = df.columns[df.isnull().mean()==0]\n",
    "        ten_missing = df.columns[df.isnull().mean() <= 0.1]\n",
    "        thirty_missing = df.columns[df.isnull().mean() <= 0.3]\n",
    "        eighty_missing = df.columns[df.isnull().mean() <= 0.8]\n",
    "\n",
    "        stats.append([len(zero_missing), len(ten_missing), len(thirty_missing), len(eighty_missing)])\n",
    "        \n",
    "    stats_df = pd.DataFrame(stats, columns=[\"0%\", \"<=10%\", \"<=30%\",\"<=80%\"])\n",
    "    \n",
    "    return stats_df"
   ]
  },
  {
   "cell_type": "code",
   "execution_count": 8,
   "metadata": {},
   "outputs": [
    {
     "data": {
      "text/html": [
       "<div>\n",
       "<style scoped>\n",
       "    .dataframe tbody tr th:only-of-type {\n",
       "        vertical-align: middle;\n",
       "    }\n",
       "\n",
       "    .dataframe tbody tr th {\n",
       "        vertical-align: top;\n",
       "    }\n",
       "\n",
       "    .dataframe thead th {\n",
       "        text-align: right;\n",
       "    }\n",
       "</style>\n",
       "<table border=\"1\" class=\"dataframe\">\n",
       "  <thead>\n",
       "    <tr style=\"text-align: right;\">\n",
       "      <th></th>\n",
       "      <th>0%</th>\n",
       "      <th>&lt;=10%</th>\n",
       "      <th>&lt;=30%</th>\n",
       "      <th>&lt;=80%</th>\n",
       "    </tr>\n",
       "  </thead>\n",
       "  <tbody>\n",
       "    <tr>\n",
       "      <th>0</th>\n",
       "      <td>9</td>\n",
       "      <td>21</td>\n",
       "      <td>21</td>\n",
       "      <td>26</td>\n",
       "    </tr>\n",
       "    <tr>\n",
       "      <th>1</th>\n",
       "      <td>0</td>\n",
       "      <td>31</td>\n",
       "      <td>41</td>\n",
       "      <td>44</td>\n",
       "    </tr>\n",
       "    <tr>\n",
       "      <th>2</th>\n",
       "      <td>0</td>\n",
       "      <td>12</td>\n",
       "      <td>14</td>\n",
       "      <td>16</td>\n",
       "    </tr>\n",
       "    <tr>\n",
       "      <th>3</th>\n",
       "      <td>1</td>\n",
       "      <td>5</td>\n",
       "      <td>5</td>\n",
       "      <td>5</td>\n",
       "    </tr>\n",
       "  </tbody>\n",
       "</table>\n",
       "</div>"
      ],
      "text/plain": [
       "   0%  <=10%  <=30%  <=80%\n",
       "0   9     21     21     26\n",
       "1   0     31     41     44\n",
       "2   0     12     14     16\n",
       "3   1      5      5      5"
      ]
     },
     "execution_count": 8,
     "metadata": {},
     "output_type": "execute_result"
    }
   ],
   "source": [
    "data_list = (police_killings, pd_killings, state_killings, blackmen_killings)\n",
    "\n",
    "missingdata_stats(data_list)"
   ]
  },
  {
   "cell_type": "code",
   "execution_count": 9,
   "metadata": {},
   "outputs": [
    {
     "data": {
      "text/html": [
       "<div>\n",
       "<style scoped>\n",
       "    .dataframe tbody tr th:only-of-type {\n",
       "        vertical-align: middle;\n",
       "    }\n",
       "\n",
       "    .dataframe tbody tr th {\n",
       "        vertical-align: top;\n",
       "    }\n",
       "\n",
       "    .dataframe thead th {\n",
       "        text-align: right;\n",
       "    }\n",
       "</style>\n",
       "<table border=\"1\" class=\"dataframe\">\n",
       "  <thead>\n",
       "    <tr style=\"text-align: right;\">\n",
       "      <th></th>\n",
       "      <th>Zipcode</th>\n",
       "      <th>WaPo ID (If included in WaPo database)</th>\n",
       "      <th>ID</th>\n",
       "    </tr>\n",
       "  </thead>\n",
       "  <tbody>\n",
       "    <tr>\n",
       "      <th>count</th>\n",
       "      <td>7624.000000</td>\n",
       "      <td>4878.000000</td>\n",
       "      <td>7663.000000</td>\n",
       "    </tr>\n",
       "    <tr>\n",
       "      <th>mean</th>\n",
       "      <td>60490.208290</td>\n",
       "      <td>2723.534645</td>\n",
       "      <td>3832.890121</td>\n",
       "    </tr>\n",
       "    <tr>\n",
       "      <th>std</th>\n",
       "      <td>28139.996523</td>\n",
       "      <td>1534.330297</td>\n",
       "      <td>2213.339298</td>\n",
       "    </tr>\n",
       "    <tr>\n",
       "      <th>min</th>\n",
       "      <td>1085.000000</td>\n",
       "      <td>3.000000</td>\n",
       "      <td>1.000000</td>\n",
       "    </tr>\n",
       "    <tr>\n",
       "      <th>25%</th>\n",
       "      <td>33452.500000</td>\n",
       "      <td>1402.250000</td>\n",
       "      <td>1916.500000</td>\n",
       "    </tr>\n",
       "    <tr>\n",
       "      <th>50%</th>\n",
       "      <td>67110.500000</td>\n",
       "      <td>2722.000000</td>\n",
       "      <td>3832.000000</td>\n",
       "    </tr>\n",
       "    <tr>\n",
       "      <th>75%</th>\n",
       "      <td>85745.250000</td>\n",
       "      <td>4050.750000</td>\n",
       "      <td>5749.500000</td>\n",
       "    </tr>\n",
       "    <tr>\n",
       "      <th>max</th>\n",
       "      <td>99801.000000</td>\n",
       "      <td>5439.000000</td>\n",
       "      <td>7667.000000</td>\n",
       "    </tr>\n",
       "  </tbody>\n",
       "</table>\n",
       "</div>"
      ],
      "text/plain": [
       "            Zipcode  WaPo ID (If included in WaPo database)           ID\n",
       "count   7624.000000                             4878.000000  7663.000000\n",
       "mean   60490.208290                             2723.534645  3832.890121\n",
       "std    28139.996523                             1534.330297  2213.339298\n",
       "min     1085.000000                                3.000000     1.000000\n",
       "25%    33452.500000                             1402.250000  1916.500000\n",
       "50%    67110.500000                             2722.000000  3832.000000\n",
       "75%    85745.250000                             4050.750000  5749.500000\n",
       "max    99801.000000                             5439.000000  7667.000000"
      ]
     },
     "execution_count": 9,
     "metadata": {},
     "output_type": "execute_result"
    }
   ],
   "source": [
    "police_killings.describe()"
   ]
  },
  {
   "cell_type": "code",
   "execution_count": 10,
   "metadata": {},
   "outputs": [
    {
     "data": {
      "image/png": "[encoded data removed]",
      "text/plain": [
       "<Figure size 1080x576 with 4 Axes>"
      ]
     },
     "metadata": {},
     "output_type": "display_data"
    }
   ],
   "source": [
    "sns.set(style=\"white\", palette=\"muted\", color_codes=True)\n",
    "rs = np.random.RandomState(10)\n",
    "\n",
    "# Set up the matplotlib figure\n",
    "f, axes = plt.subplots(1, 4, figsize=(15, 8), sharex=True)\n",
    "sns.despine(left=True)\n",
    "\n",
    "# Plot subplots for different datasets\n",
    "sns.heatmap(police_killings.isnull(), cbar=False, ax=axes[0])\n",
    "sns.heatmap(pd_killings.isnull(), cbar=False, ax=axes[1])\n",
    "sns.heatmap(state_killings.isnull(), cbar=False, ax=axes[2])\n",
    "sns.heatmap(blackmen_killings.isnull(), cbar=False, ax=axes[3])\n",
    "\n",
    "plt.setp(axes, yticks=[], xticks=[])\n",
    "plt.tight_layout()"
   ]
  },
  {
   "cell_type": "markdown",
   "metadata": {},
   "source": [
    "# Killings of black people"
   ]
  },
  {
   "cell_type": "code",
   "execution_count": 11,
   "metadata": {},
   "outputs": [
    {
     "data": {
      "text/html": [
       "<div>\n",
       "<style scoped>\n",
       "    .dataframe tbody tr th:only-of-type {\n",
       "        vertical-align: middle;\n",
       "    }\n",
       "\n",
       "    .dataframe tbody tr th {\n",
       "        vertical-align: top;\n",
       "    }\n",
       "\n",
       "    .dataframe thead th {\n",
       "        text-align: right;\n",
       "    }\n",
       "</style>\n",
       "<table border=\"1\" class=\"dataframe\">\n",
       "  <thead>\n",
       "    <tr style=\"text-align: right;\">\n",
       "      <th></th>\n",
       "      <th>State</th>\n",
       "      <th>Population</th>\n",
       "      <th>African-American Alone</th>\n",
       "      <th>% African-American</th>\n",
       "      <th>% Victims Black</th>\n",
       "      <th>Disparity</th>\n",
       "      <th># Black people killed</th>\n",
       "      <th># Hispanic people killed</th>\n",
       "      <th># Native American people killed</th>\n",
       "      <th># Asian people killed</th>\n",
       "      <th># Pacific Islanders killed</th>\n",
       "      <th># White people killed</th>\n",
       "      <th># Unknown Race people killed</th>\n",
       "      <th># People Killed</th>\n",
       "      <th>Rate (Black People)</th>\n",
       "      <th>Rate (All People)</th>\n",
       "      <th>Disparity in Rate</th>\n",
       "    </tr>\n",
       "  </thead>\n",
       "  <tbody>\n",
       "    <tr>\n",
       "      <th>0</th>\n",
       "      <td>Alabama</td>\n",
       "      <td>4779736.0</td>\n",
       "      <td>1251311.0</td>\n",
       "      <td>0.261795</td>\n",
       "      <td>0.376812</td>\n",
       "      <td>0.115017</td>\n",
       "      <td>52.0</td>\n",
       "      <td>NaN</td>\n",
       "      <td>NaN</td>\n",
       "      <td>1.0</td>\n",
       "      <td>NaN</td>\n",
       "      <td>73.0</td>\n",
       "      <td>12.0</td>\n",
       "      <td>138.0</td>\n",
       "      <td>5.936631</td>\n",
       "      <td>4.124555</td>\n",
       "      <td>1.439338</td>\n",
       "    </tr>\n",
       "    <tr>\n",
       "      <th>1</th>\n",
       "      <td>Alaska</td>\n",
       "      <td>710231.0</td>\n",
       "      <td>23263.0</td>\n",
       "      <td>0.032754</td>\n",
       "      <td>0.121951</td>\n",
       "      <td>0.089197</td>\n",
       "      <td>5.0</td>\n",
       "      <td>1.0</td>\n",
       "      <td>12.0</td>\n",
       "      <td>NaN</td>\n",
       "      <td>NaN</td>\n",
       "      <td>15.0</td>\n",
       "      <td>8.0</td>\n",
       "      <td>41.0</td>\n",
       "      <td>30.704798</td>\n",
       "      <td>8.246814</td>\n",
       "      <td>3.723232</td>\n",
       "    </tr>\n",
       "    <tr>\n",
       "      <th>2</th>\n",
       "      <td>Arizona</td>\n",
       "      <td>6392017.0</td>\n",
       "      <td>259008.0</td>\n",
       "      <td>0.040521</td>\n",
       "      <td>0.090379</td>\n",
       "      <td>0.049858</td>\n",
       "      <td>31.0</td>\n",
       "      <td>114.0</td>\n",
       "      <td>14.0</td>\n",
       "      <td>NaN</td>\n",
       "      <td>NaN</td>\n",
       "      <td>141.0</td>\n",
       "      <td>43.0</td>\n",
       "      <td>343.0</td>\n",
       "      <td>17.098203</td>\n",
       "      <td>7.665812</td>\n",
       "      <td>2.230449</td>\n",
       "    </tr>\n",
       "    <tr>\n",
       "      <th>3</th>\n",
       "      <td>Arkansas</td>\n",
       "      <td>2915918.0</td>\n",
       "      <td>449895.0</td>\n",
       "      <td>0.154289</td>\n",
       "      <td>0.271845</td>\n",
       "      <td>0.117555</td>\n",
       "      <td>28.0</td>\n",
       "      <td>3.0</td>\n",
       "      <td>NaN</td>\n",
       "      <td>1.0</td>\n",
       "      <td>NaN</td>\n",
       "      <td>59.0</td>\n",
       "      <td>12.0</td>\n",
       "      <td>103.0</td>\n",
       "      <td>8.890963</td>\n",
       "      <td>5.046193</td>\n",
       "      <td>1.761915</td>\n",
       "    </tr>\n",
       "    <tr>\n",
       "      <th>4</th>\n",
       "      <td>California</td>\n",
       "      <td>37253956.0</td>\n",
       "      <td>2299072.0</td>\n",
       "      <td>0.061713</td>\n",
       "      <td>0.156830</td>\n",
       "      <td>0.095116</td>\n",
       "      <td>186.0</td>\n",
       "      <td>489.0</td>\n",
       "      <td>7.0</td>\n",
       "      <td>44.0</td>\n",
       "      <td>9.0</td>\n",
       "      <td>333.0</td>\n",
       "      <td>118.0</td>\n",
       "      <td>1186.0</td>\n",
       "      <td>11.557458</td>\n",
       "      <td>4.547935</td>\n",
       "      <td>2.541254</td>\n",
       "    </tr>\n",
       "  </tbody>\n",
       "</table>\n",
       "</div>"
      ],
      "text/plain": [
       "        State  Population  African-American Alone  % African-American  \\\n",
       "0     Alabama   4779736.0               1251311.0            0.261795   \n",
       "1      Alaska    710231.0                 23263.0            0.032754   \n",
       "2     Arizona   6392017.0                259008.0            0.040521   \n",
       "3    Arkansas   2915918.0                449895.0            0.154289   \n",
       "4  California  37253956.0               2299072.0            0.061713   \n",
       "\n",
       "   % Victims Black  Disparity  # Black people killed  \\\n",
       "0         0.376812   0.115017                   52.0   \n",
       "1         0.121951   0.089197                    5.0   \n",
       "2         0.090379   0.049858                   31.0   \n",
       "3         0.271845   0.117555                   28.0   \n",
       "4         0.156830   0.095116                  186.0   \n",
       "\n",
       "   # Hispanic people killed  # Native American people killed  \\\n",
       "0                       NaN                              NaN   \n",
       "1                       1.0                             12.0   \n",
       "2                     114.0                             14.0   \n",
       "3                       3.0                              NaN   \n",
       "4                     489.0                              7.0   \n",
       "\n",
       "   # Asian people killed  # Pacific Islanders killed  # White people killed  \\\n",
       "0                    1.0                         NaN                   73.0   \n",
       "1                    NaN                         NaN                   15.0   \n",
       "2                    NaN                         NaN                  141.0   \n",
       "3                    1.0                         NaN                   59.0   \n",
       "4                   44.0                         9.0                  333.0   \n",
       "\n",
       "   # Unknown Race people killed  # People Killed  Rate (Black People)  \\\n",
       "0                          12.0            138.0             5.936631   \n",
       "1                           8.0             41.0            30.704798   \n",
       "2                          43.0            343.0            17.098203   \n",
       "3                          12.0            103.0             8.890963   \n",
       "4                         118.0           1186.0            11.557458   \n",
       "\n",
       "   Rate (All People)  Disparity in Rate  \n",
       "0           4.124555           1.439338  \n",
       "1           8.246814           3.723232  \n",
       "2           7.665812           2.230449  \n",
       "3           5.046193           1.761915  \n",
       "4           4.547935           2.541254  "
      ]
     },
     "execution_count": 11,
     "metadata": {},
     "output_type": "execute_result"
    }
   ],
   "source": [
    "state_killings.head()"
   ]
  },
  {
   "cell_type": "code",
   "execution_count": 58,
   "metadata": {},
   "outputs": [
    {
     "data": {
      "application/vnd.plotly.v1+json": {
       "config": {
        "plotlyServerURL": "https://plot.ly"
       },
       "data": [
        {
         "alignmentgroup": "True",
         "hovertemplate": "variable=# Black people killed<br>index=%{x}<br>value=%{y}<extra></extra>",
         "legendgroup": "# Black people killed",
         "marker": {
          "color": "#636efa"
         },
         "name": "# Black people killed",
         "offsetgroup": "# Black people killed",
         "orientation": "v",
         "showlegend": true,
         "textposition": "auto",
         "type": "bar",
         "x": [
          0,
          1,
          2,
          3,
          4,
          5,
          6,
          7,
          8,
          9,
          10,
          11,
          12,
          13,
          14,
          15,
          16,
          17,
          18,
          19,
          20,
          21,
          22,
          23,
          24,
          25,
          26,
          27,
          28,
          29,
          30,
          31,
          32,
          33,
          34,
          35,
          36,
          37,
          38,
          39,
          40,
          41,
          42,
          43,
          44,
          45,
          46,
          47,
          48,
          49,
          50,
          51,
          52
         ],
         "xaxis": "x",
         "y": [
          52,
          5,
          31,
          28,
          186,
          21,
          7,
          9,
          23,
          169,
          98,
          1,
          1,
          96,
          40,
          6,
          11,
          19,
          80,
          1,
          80,
          15,
          42,
          17,
          41,
          74,
          null,
          8,
          21,
          null,
          51,
          4,
          71,
          77,
          null,
          80,
          51,
          9,
          58,
          3,
          38,
          null,
          41,
          157,
          8,
          null,
          52,
          25,
          10,
          27,
          null,
          null,
          null
         ],
         "yaxis": "y"
        },
        {
         "alignmentgroup": "True",
         "hovertemplate": "variable=# Hispanic people killed<br>index=%{x}<br>value=%{y}<extra></extra>",
         "legendgroup": "# Hispanic people killed",
         "marker": {
          "color": "#EF553B"
         },
         "name": "# Hispanic people killed",
         "offsetgroup": "# Hispanic people killed",
         "orientation": "v",
         "showlegend": true,
         "textposition": "auto",
         "type": "bar",
         "x": [
          0,
          1,
          2,
          3,
          4,
          5,
          6,
          7,
          8,
          9,
          10,
          11,
          12,
          13,
          14,
          15,
          16,
          17,
          18,
          19,
          20,
          21,
          22,
          23,
          24,
          25,
          26,
          27,
          28,
          29,
          30,
          31,
          32,
          33,
          34,
          35,
          36,
          37,
          38,
          39,
          40,
          41,
          42,
          43,
          44,
          45,
          46,
          47,
          48,
          49,
          50,
          51,
          52
         ],
         "xaxis": "x",
         "y": [
          null,
          1,
          114,
          3,
          489,
          67,
          6,
          null,
          null,
          76,
          13,
          4,
          6,
          21,
          6,
          2,
          8,
          3,
          5,
          null,
          6,
          10,
          4,
          4,
          1,
          5,
          1,
          3,
          30,
          1,
          14,
          78,
          18,
          9,
          null,
          2,
          18,
          9,
          10,
          1,
          2,
          1,
          5,
          219,
          13,
          1,
          7,
          29,
          null,
          8,
          2,
          null,
          null
         ],
         "yaxis": "y"
        },
        {
         "alignmentgroup": "True",
         "hovertemplate": "variable=# Native American people killed<br>index=%{x}<br>value=%{y}<extra></extra>",
         "legendgroup": "# Native American people killed",
         "marker": {
          "color": "#00cc96"
         },
         "name": "# Native American people killed",
         "offsetgroup": "# Native American people killed",
         "orientation": "v",
         "showlegend": true,
         "textposition": "auto",
         "type": "bar",
         "x": [
          0,
          1,
          2,
          3,
          4,
          5,
          6,
          7,
          8,
          9,
          10,
          11,
          12,
          13,
          14,
          15,
          16,
          17,
          18,
          19,
          20,
          21,
          22,
          23,
          24,
          25,
          26,
          27,
          28,
          29,
          30,
          31,
          32,
          33,
          34,
          35,
          36,
          37,
          38,
          39,
          40,
          41,
          42,
          43,
          44,
          45,
          46,
          47,
          48,
          49,
          50,
          51,
          52
         ],
         "xaxis": "x",
         "y": [
          null,
          12,
          14,
          null,
          7,
          5,
          null,
          null,
          null,
          null,
          null,
          null,
          2,
          null,
          null,
          null,
          null,
          1,
          null,
          null,
          null,
          null,
          null,
          5,
          1,
          null,
          5,
          2,
          2,
          null,
          null,
          6,
          null,
          1,
          4,
          null,
          12,
          null,
          1,
          null,
          null,
          9,
          null,
          1,
          2,
          1,
          null,
          12,
          null,
          5,
          2,
          null,
          null
         ],
         "yaxis": "y"
        },
        {
         "alignmentgroup": "True",
         "hovertemplate": "variable=# Asian people killed<br>index=%{x}<br>value=%{y}<extra></extra>",
         "legendgroup": "# Asian people killed",
         "marker": {
          "color": "#ab63fa"
         },
         "name": "# Asian people killed",
         "offsetgroup": "# Asian people killed",
         "orientation": "v",
         "showlegend": true,
         "textposition": "auto",
         "type": "bar",
         "x": [
          0,
          1,
          2,
          3,
          4,
          5,
          6,
          7,
          8,
          9,
          10,
          11,
          12,
          13,
          14,
          15,
          16,
          17,
          18,
          19,
          20,
          21,
          22,
          23,
          24,
          25,
          26,
          27,
          28,
          29,
          30,
          31,
          32,
          33,
          34,
          35,
          36,
          37,
          38,
          39,
          40,
          41,
          42,
          43,
          44,
          45,
          46,
          47,
          48,
          49,
          50,
          51,
          52
         ],
         "xaxis": "x",
         "y": [
          1,
          null,
          null,
          1,
          44,
          4,
          1,
          null,
          null,
          6,
          3,
          2,
          null,
          1,
          null,
          null,
          null,
          1,
          4,
          null,
          null,
          1,
          2,
          7,
          1,
          null,
          null,
          null,
          2,
          null,
          1,
          1,
          1,
          1,
          null,
          4,
          2,
          null,
          1,
          null,
          2,
          1,
          2,
          10,
          null,
          null,
          1,
          5,
          1,
          4,
          null,
          null,
          null
         ],
         "yaxis": "y"
        },
        {
         "alignmentgroup": "True",
         "hovertemplate": "variable=# Pacific Islanders killed<br>index=%{x}<br>value=%{y}<extra></extra>",
         "legendgroup": "# Pacific Islanders killed",
         "marker": {
          "color": "#FFA15A"
         },
         "name": "# Pacific Islanders killed",
         "offsetgroup": "# Pacific Islanders killed",
         "orientation": "v",
         "showlegend": true,
         "textposition": "auto",
         "type": "bar",
         "x": [
          0,
          1,
          2,
          3,
          4,
          5,
          6,
          7,
          8,
          9,
          10,
          11,
          12,
          13,
          14,
          15,
          16,
          17,
          18,
          19,
          20,
          21,
          22,
          23,
          24,
          25,
          26,
          27,
          28,
          29,
          30,
          31,
          32,
          33,
          34,
          35,
          36,
          37,
          38,
          39,
          40,
          41,
          42,
          43,
          44,
          45,
          46,
          47,
          48,
          49,
          50,
          51,
          52
         ],
         "xaxis": "x",
         "y": [
          null,
          null,
          null,
          null,
          9,
          null,
          null,
          null,
          null,
          null,
          null,
          22,
          null,
          null,
          null,
          null,
          null,
          null,
          null,
          null,
          null,
          null,
          1,
          null,
          null,
          2,
          null,
          null,
          null,
          null,
          null,
          null,
          null,
          1,
          null,
          null,
          1,
          null,
          null,
          null,
          null,
          null,
          null,
          null,
          2,
          null,
          null,
          4,
          null,
          null,
          null,
          null,
          null
         ],
         "yaxis": "y"
        },
        {
         "alignmentgroup": "True",
         "hovertemplate": "variable=# White people killed<br>index=%{x}<br>value=%{y}<extra></extra>",
         "legendgroup": "# White people killed",
         "marker": {
          "color": "#19d3f3"
         },
         "name": "# White people killed",
         "offsetgroup": "# White people killed",
         "orientation": "v",
         "showlegend": true,
         "textposition": "auto",
         "type": "bar",
         "x": [
          0,
          1,
          2,
          3,
          4,
          5,
          6,
          7,
          8,
          9,
          10,
          11,
          12,
          13,
          14,
          15,
          16,
          17,
          18,
          19,
          20,
          21,
          22,
          23,
          24,
          25,
          26,
          27,
          28,
          29,
          30,
          31,
          32,
          33,
          34,
          35,
          36,
          37,
          38,
          39,
          40,
          41,
          42,
          43,
          44,
          45,
          46,
          47,
          48,
          49,
          50,
          51,
          52
         ],
         "xaxis": "x",
         "y": [
          73,
          15,
          141,
          59,
          333,
          97,
          19,
          8,
          1,
          242,
          109,
          5,
          36,
          49,
          70,
          33,
          49,
          86,
          49,
          27,
          32,
          26,
          56,
          50,
          51,
          93,
          28,
          22,
          57,
          16,
          26,
          41,
          53,
          104,
          7,
          116,
          123,
          87,
          78,
          2,
          67,
          11,
          116,
          258,
          55,
          9,
          51,
          116,
          51,
          63,
          12,
          null,
          null
         ],
         "yaxis": "y"
        },
        {
         "alignmentgroup": "True",
         "hovertemplate": "variable=# Unknown Race people killed<br>index=%{x}<br>value=%{y}<extra></extra>",
         "legendgroup": "# Unknown Race people killed",
         "marker": {
          "color": "#FF6692"
         },
         "name": "# Unknown Race people killed",
         "offsetgroup": "# Unknown Race people killed",
         "orientation": "v",
         "showlegend": true,
         "textposition": "auto",
         "type": "bar",
         "x": [
          0,
          1,
          2,
          3,
          4,
          5,
          6,
          7,
          8,
          9,
          10,
          11,
          12,
          13,
          14,
          15,
          16,
          17,
          18,
          19,
          20,
          21,
          22,
          23,
          24,
          25,
          26,
          27,
          28,
          29,
          30,
          31,
          32,
          33,
          34,
          35,
          36,
          37,
          38,
          39,
          40,
          41,
          42,
          43,
          44,
          45,
          46,
          47,
          48,
          49,
          50,
          51,
          52
         ],
         "xaxis": "x",
         "y": [
          12,
          8,
          43,
          12,
          118,
          33,
          3,
          3,
          2,
          47,
          42,
          3,
          3,
          14,
          8,
          4,
          7,
          12,
          10,
          3,
          10,
          4,
          18,
          1,
          13,
          23,
          6,
          1,
          9,
          null,
          11,
          12,
          12,
          11,
          null,
          13,
          7,
          8,
          23,
          null,
          11,
          3,
          15,
          74,
          2,
          1,
          13,
          27,
          12,
          4,
          3,
          null,
          null
         ],
         "yaxis": "y"
        }
       ],
       "layout": {
        "barmode": "relative",
        "legend": {
         "title": {
          "text": "variable"
         },
         "tracegroupgap": 0
        },
        "margin": {
         "t": 60
        },
        "template": {
         "data": {
          "bar": [
           {
            "error_x": {
             "color": "#2a3f5f"
            },
            "error_y": {
             "color": "#2a3f5f"
            },
            "marker": {
             "line": {
              "color": "#E5ECF6",
              "width": 0.5
             }
            },
            "type": "bar"
           }
          ],
          "barpolar": [
           {
            "marker": {
             "line": {
              "color": "#E5ECF6",
              "width": 0.5
             }
            },
            "type": "barpolar"
           }
          ],
          "carpet": [
           {
            "aaxis": {
             "endlinecolor": "#2a3f5f",
             "gridcolor": "white",
             "linecolor": "white",
             "minorgridcolor": "white",
             "startlinecolor": "#2a3f5f"
            },
            "baxis": {
             "endlinecolor": "#2a3f5f",
             "gridcolor": "white",
             "linecolor": "white",
             "minorgridcolor": "white",
             "startlinecolor": "#2a3f5f"
            },
            "type": "carpet"
           }
          ],
          "choropleth": [
           {
            "colorbar": {
             "outlinewidth": 0,
             "ticks": ""
            },
            "type": "choropleth"
           }
          ],
          "contour": [
           {
            "colorbar": {
             "outlinewidth": 0,
             "ticks": ""
            },
            "colorscale": [
             [
              0,
              "#0d0887"
             ],
             [
              0.1111111111111111,
              "#46039f"
             ],
             [
              0.2222222222222222,
              "#7201a8"
             ],
             [
              0.3333333333333333,
              "#9c179e"
             ],
             [
              0.4444444444444444,
              "#bd3786"
             ],
             [
              0.5555555555555556,
              "#d8576b"
             ],
             [
              0.6666666666666666,
              "#ed7953"
             ],
             [
              0.7777777777777778,
              "#fb9f3a"
             ],
             [
              0.8888888888888888,
              "#fdca26"
             ],
             [
              1,
              "#f0f921"
             ]
            ],
            "type": "contour"
           }
          ],
          "contourcarpet": [
           {
            "colorbar": {
             "outlinewidth": 0,
             "ticks": ""
            },
            "type": "contourcarpet"
           }
          ],
          "heatmap": [
           {
            "colorbar": {
             "outlinewidth": 0,
             "ticks": ""
            },
            "colorscale": [
             [
              0,
              "#0d0887"
             ],
             [
              0.1111111111111111,
              "#46039f"
             ],
             [
              0.2222222222222222,
              "#7201a8"
             ],
             [
              0.3333333333333333,
              "#9c179e"
             ],
             [
              0.4444444444444444,
              "#bd3786"
             ],
             [
              0.5555555555555556,
              "#d8576b"
             ],
             [
              0.6666666666666666,
              "#ed7953"
             ],
             [
              0.7777777777777778,
              "#fb9f3a"
             ],
             [
              0.8888888888888888,
              "#fdca26"
             ],
             [
              1,
              "#f0f921"
             ]
            ],
            "type": "heatmap"
           }
          ],
          "heatmapgl": [
           {
            "colorbar": {
             "outlinewidth": 0,
             "ticks": ""
            },
            "colorscale": [
             [
              0,
              "#0d0887"
             ],
             [
              0.1111111111111111,
              "#46039f"
             ],
             [
              0.2222222222222222,
              "#7201a8"
             ],
             [
              0.3333333333333333,
              "#9c179e"
             ],
             [
              0.4444444444444444,
              "#bd3786"
             ],
             [
              0.5555555555555556,
              "#d8576b"
             ],
             [
              0.6666666666666666,
              "#ed7953"
             ],
             [
              0.7777777777777778,
              "#fb9f3a"
             ],
             [
              0.8888888888888888,
              "#fdca26"
             ],
             [
              1,
              "#f0f921"
             ]
            ],
            "type": "heatmapgl"
           }
          ],
          "histogram": [
           {
            "marker": {
             "colorbar": {
              "outlinewidth": 0,
              "ticks": ""
             }
            },
            "type": "histogram"
           }
          ],
          "histogram2d": [
           {
            "colorbar": {
             "outlinewidth": 0,
             "ticks": ""
            },
            "colorscale": [
             [
              0,
              "#0d0887"
             ],
             [
              0.1111111111111111,
              "#46039f"
             ],
             [
              0.2222222222222222,
              "#7201a8"
             ],
             [
              0.3333333333333333,
              "#9c179e"
             ],
             [
              0.4444444444444444,
              "#bd3786"
             ],
             [
              0.5555555555555556,
              "#d8576b"
             ],
             [
              0.6666666666666666,
              "#ed7953"
             ],
             [
              0.7777777777777778,
              "#fb9f3a"
             ],
             [
              0.8888888888888888,
              "#fdca26"
             ],
             [
              1,
              "#f0f921"
             ]
            ],
            "type": "histogram2d"
           }
          ],
          "histogram2dcontour": [
           {
            "colorbar": {
             "outlinewidth": 0,
             "ticks": ""
            },
            "colorscale": [
             [
              0,
              "#0d0887"
             ],
             [
              0.1111111111111111,
              "#46039f"
             ],
             [
              0.2222222222222222,
              "#7201a8"
             ],
             [
              0.3333333333333333,
              "#9c179e"
             ],
             [
              0.4444444444444444,
              "#bd3786"
             ],
             [
              0.5555555555555556,
              "#d8576b"
             ],
             [
              0.6666666666666666,
              "#ed7953"
             ],
             [
              0.7777777777777778,
              "#fb9f3a"
             ],
             [
              0.8888888888888888,
              "#fdca26"
             ],
             [
              1,
              "#f0f921"
             ]
            ],
            "type": "histogram2dcontour"
           }
          ],
          "mesh3d": [
           {
            "colorbar": {
             "outlinewidth": 0,
             "ticks": ""
            },
            "type": "mesh3d"
           }
          ],
          "parcoords": [
           {
            "line": {
             "colorbar": {
              "outlinewidth": 0,
              "ticks": ""
             }
            },
            "type": "parcoords"
           }
          ],
          "pie": [
           {
            "automargin": true,
            "type": "pie"
           }
          ],
          "scatter": [
           {
            "marker": {
             "colorbar": {
              "outlinewidth": 0,
              "ticks": ""
             }
            },
            "type": "scatter"
           }
          ],
          "scatter3d": [
           {
            "line": {
             "colorbar": {
              "outlinewidth": 0,
              "ticks": ""
             }
            },
            "marker": {
             "colorbar": {
              "outlinewidth": 0,
              "ticks": ""
             }
            },
            "type": "scatter3d"
           }
          ],
          "scattercarpet": [
           {
            "marker": {
             "colorbar": {
              "outlinewidth": 0,
              "ticks": ""
             }
            },
            "type": "scattercarpet"
           }
          ],
          "scattergeo": [
           {
            "marker": {
             "colorbar": {
              "outlinewidth": 0,
              "ticks": ""
             }
            },
            "type": "scattergeo"
           }
          ],
          "scattergl": [
           {
            "marker": {
             "colorbar": {
              "outlinewidth": 0,
              "ticks": ""
             }
            },
            "type": "scattergl"
           }
          ],
          "scattermapbox": [
           {
            "marker": {
             "colorbar": {
              "outlinewidth": 0,
              "ticks": ""
             }
            },
            "type": "scattermapbox"
           }
          ],
          "scatterpolar": [
           {
            "marker": {
             "colorbar": {
              "outlinewidth": 0,
              "ticks": ""
             }
            },
            "type": "scatterpolar"
           }
          ],
          "scatterpolargl": [
           {
            "marker": {
             "colorbar": {
              "outlinewidth": 0,
              "ticks": ""
             }
            },
            "type": "scatterpolargl"
           }
          ],
          "scatterternary": [
           {
            "marker": {
             "colorbar": {
              "outlinewidth": 0,
              "ticks": ""
             }
            },
            "type": "scatterternary"
           }
          ],
          "surface": [
           {
            "colorbar": {
             "outlinewidth": 0,
             "ticks": ""
            },
            "colorscale": [
             [
              0,
              "#0d0887"
             ],
             [
              0.1111111111111111,
              "#46039f"
             ],
             [
              0.2222222222222222,
              "#7201a8"
             ],
             [
              0.3333333333333333,
              "#9c179e"
             ],
             [
              0.4444444444444444,
              "#bd3786"
             ],
             [
              0.5555555555555556,
              "#d8576b"
             ],
             [
              0.6666666666666666,
              "#ed7953"
             ],
             [
              0.7777777777777778,
              "#fb9f3a"
             ],
             [
              0.8888888888888888,
              "#fdca26"
             ],
             [
              1,
              "#f0f921"
             ]
            ],
            "type": "surface"
           }
          ],
          "table": [
           {
            "cells": {
             "fill": {
              "color": "#EBF0F8"
             },
             "line": {
              "color": "white"
             }
            },
            "header": {
             "fill": {
              "color": "#C8D4E3"
             },
             "line": {
              "color": "white"
             }
            },
            "type": "table"
           }
          ]
         },
         "layout": {
          "annotationdefaults": {
           "arrowcolor": "#2a3f5f",
           "arrowhead": 0,
           "arrowwidth": 1
          },
          "coloraxis": {
           "colorbar": {
            "outlinewidth": 0,
            "ticks": ""
           }
          },
          "colorscale": {
           "diverging": [
            [
             0,
             "#8e0152"
            ],
            [
             0.1,
             "#c51b7d"
            ],
            [
             0.2,
             "#de77ae"
            ],
            [
             0.3,
             "#f1b6da"
            ],
            [
             0.4,
             "#fde0ef"
            ],
            [
             0.5,
             "#f7f7f7"
            ],
            [
             0.6,
             "#e6f5d0"
            ],
            [
             0.7,
             "#b8e186"
            ],
            [
             0.8,
             "#7fbc41"
            ],
            [
             0.9,
             "#4d9221"
            ],
            [
             1,
             "#276419"
            ]
           ],
           "sequential": [
            [
             0,
             "#0d0887"
            ],
            [
             0.1111111111111111,
             "#46039f"
            ],
            [
             0.2222222222222222,
             "#7201a8"
            ],
            [
             0.3333333333333333,
             "#9c179e"
            ],
            [
             0.4444444444444444,
             "#bd3786"
            ],
            [
             0.5555555555555556,
             "#d8576b"
            ],
            [
             0.6666666666666666,
             "#ed7953"
            ],
            [
             0.7777777777777778,
             "#fb9f3a"
            ],
            [
             0.8888888888888888,
             "#fdca26"
            ],
            [
             1,
             "#f0f921"
            ]
           ],
           "sequentialminus": [
            [
             0,
             "#0d0887"
            ],
            [
             0.1111111111111111,
             "#46039f"
            ],
            [
             0.2222222222222222,
             "#7201a8"
            ],
            [
             0.3333333333333333,
             "#9c179e"
            ],
            [
             0.4444444444444444,
             "#bd3786"
            ],
            [
             0.5555555555555556,
             "#d8576b"
            ],
            [
             0.6666666666666666,
             "#ed7953"
            ],
            [
             0.7777777777777778,
             "#fb9f3a"
            ],
            [
             0.8888888888888888,
             "#fdca26"
            ],
            [
             1,
             "#f0f921"
            ]
           ]
          },
          "colorway": [
           "#636efa",
           "#EF553B",
           "#00cc96",
           "#ab63fa",
           "#FFA15A",
           "#19d3f3",
           "#FF6692",
           "#B6E880",
           "#FF97FF",
           "#FECB52"
          ],
          "font": {
           "color": "#2a3f5f"
          },
          "geo": {
           "bgcolor": "white",
           "lakecolor": "white",
           "landcolor": "#E5ECF6",
           "showlakes": true,
           "showland": true,
           "subunitcolor": "white"
          },
          "hoverlabel": {
           "align": "left"
          },
          "hovermode": "closest",
          "mapbox": {
           "style": "light"
          },
          "paper_bgcolor": "white",
          "plot_bgcolor": "#E5ECF6",
          "polar": {
           "angularaxis": {
            "gridcolor": "white",
            "linecolor": "white",
            "ticks": ""
           },
           "bgcolor": "#E5ECF6",
           "radialaxis": {
            "gridcolor": "white",
            "linecolor": "white",
            "ticks": ""
           }
          },
          "scene": {
           "xaxis": {
            "backgroundcolor": "#E5ECF6",
            "gridcolor": "white",
            "gridwidth": 2,
            "linecolor": "white",
            "showbackground": true,
            "ticks": "",
            "zerolinecolor": "white"
           },
           "yaxis": {
            "backgroundcolor": "#E5ECF6",
            "gridcolor": "white",
            "gridwidth": 2,
            "linecolor": "white",
            "showbackground": true,
            "ticks": "",
            "zerolinecolor": "white"
           },
           "zaxis": {
            "backgroundcolor": "#E5ECF6",
            "gridcolor": "white",
            "gridwidth": 2,
            "linecolor": "white",
            "showbackground": true,
            "ticks": "",
            "zerolinecolor": "white"
           }
          },
          "shapedefaults": {
           "line": {
            "color": "#2a3f5f"
           }
          },
          "ternary": {
           "aaxis": {
            "gridcolor": "white",
            "linecolor": "white",
            "ticks": ""
           },
           "baxis": {
            "gridcolor": "white",
            "linecolor": "white",
            "ticks": ""
           },
           "bgcolor": "#E5ECF6",
           "caxis": {
            "gridcolor": "white",
            "linecolor": "white",
            "ticks": ""
           }
          },
          "title": {
           "x": 0.05
          },
          "xaxis": {
           "automargin": true,
           "gridcolor": "white",
           "linecolor": "white",
           "ticks": "",
           "title": {
            "standoff": 15
           },
           "zerolinecolor": "white",
           "zerolinewidth": 2
          },
          "yaxis": {
           "automargin": true,
           "gridcolor": "white",
           "linecolor": "white",
           "ticks": "",
           "title": {
            "standoff": 15
           },
           "zerolinecolor": "white",
           "zerolinewidth": 2
          }
         }
        },
        "xaxis": {
         "anchor": "y",
         "domain": [
          0,
          1
         ],
         "title": {
          "text": "index"
         }
        },
        "yaxis": {
         "anchor": "x",
         "domain": [
          0,
          1
         ],
         "title": {
          "text": "value"
         }
        }
       }
      },
      "text/html": [
       "<div>\n",
       "        \n",
       "        \n",
       "            <div id=\"598042b6-1370-4196-9cf1-ef0d362d49fc\" class=\"plotly-graph-div\" style=\"height:525px; width:100%;\"></div>\n",
       "            <script type=\"text/javascript\">\n",
       "                require([\"plotly\"], function(Plotly) {\n",
       "                    window.PLOTLYENV=window.PLOTLYENV || {};\n",
       "                    \n",
       "                if (document.getElementById(\"598042b6-1370-4196-9cf1-ef0d362d49fc\")) {\n",
       "                    Plotly.newPlot(\n",
       "                        '598042b6-1370-4196-9cf1-ef0d362d49fc',\n",
       "                        [{\"alignmentgroup\": \"True\", \"hovertemplate\": \"variable=# Black people killed<br>index=%{x}<br>value=%{y}<extra></extra>\", \"legendgroup\": \"# Black people killed\", \"marker\": {\"color\": \"#636efa\"}, \"name\": \"# Black people killed\", \"offsetgroup\": \"# Black people killed\", \"orientation\": \"v\", \"showlegend\": true, \"textposition\": \"auto\", \"type\": \"bar\", \"x\": [0, 1, 2, 3, 4, 5, 6, 7, 8, 9, 10, 11, 12, 13, 14, 15, 16, 17, 18, 19, 20, 21, 22, 23, 24, 25, 26, 27, 28, 29, 30, 31, 32, 33, 34, 35, 36, 37, 38, 39, 40, 41, 42, 43, 44, 45, 46, 47, 48, 49, 50, 51, 52], \"xaxis\": \"x\", \"y\": [52.0, 5.0, 31.0, 28.0, 186.0, 21.0, 7.0, 9.0, 23.0, 169.0, 98.0, 1.0, 1.0, 96.0, 40.0, 6.0, 11.0, 19.0, 80.0, 1.0, 80.0, 15.0, 42.0, 17.0, 41.0, 74.0, null, 8.0, 21.0, null, 51.0, 4.0, 71.0, 77.0, null, 80.0, 51.0, 9.0, 58.0, 3.0, 38.0, null, 41.0, 157.0, 8.0, null, 52.0, 25.0, 10.0, 27.0, null, null, null], \"yaxis\": \"y\"}, {\"alignmentgroup\": \"True\", \"hovertemplate\": \"variable=# Hispanic people killed<br>index=%{x}<br>value=%{y}<extra></extra>\", \"legendgroup\": \"# Hispanic people killed\", \"marker\": {\"color\": \"#EF553B\"}, \"name\": \"# Hispanic people killed\", \"offsetgroup\": \"# Hispanic people killed\", \"orientation\": \"v\", \"showlegend\": true, \"textposition\": \"auto\", \"type\": \"bar\", \"x\": [0, 1, 2, 3, 4, 5, 6, 7, 8, 9, 10, 11, 12, 13, 14, 15, 16, 17, 18, 19, 20, 21, 22, 23, 24, 25, 26, 27, 28, 29, 30, 31, 32, 33, 34, 35, 36, 37, 38, 39, 40, 41, 42, 43, 44, 45, 46, 47, 48, 49, 50, 51, 52], \"xaxis\": \"x\", \"y\": [null, 1.0, 114.0, 3.0, 489.0, 67.0, 6.0, null, null, 76.0, 13.0, 4.0, 6.0, 21.0, 6.0, 2.0, 8.0, 3.0, 5.0, null, 6.0, 10.0, 4.0, 4.0, 1.0, 5.0, 1.0, 3.0, 30.0, 1.0, 14.0, 78.0, 18.0, 9.0, null, 2.0, 18.0, 9.0, 10.0, 1.0, 2.0, 1.0, 5.0, 219.0, 13.0, 1.0, 7.0, 29.0, null, 8.0, 2.0, null, null], \"yaxis\": \"y\"}, {\"alignmentgroup\": \"True\", \"hovertemplate\": \"variable=# Native American people killed<br>index=%{x}<br>value=%{y}<extra></extra>\", \"legendgroup\": \"# Native American people killed\", \"marker\": {\"color\": \"#00cc96\"}, \"name\": \"# Native American people killed\", \"offsetgroup\": \"# Native American people killed\", \"orientation\": \"v\", \"showlegend\": true, \"textposition\": \"auto\", \"type\": \"bar\", \"x\": [0, 1, 2, 3, 4, 5, 6, 7, 8, 9, 10, 11, 12, 13, 14, 15, 16, 17, 18, 19, 20, 21, 22, 23, 24, 25, 26, 27, 28, 29, 30, 31, 32, 33, 34, 35, 36, 37, 38, 39, 40, 41, 42, 43, 44, 45, 46, 47, 48, 49, 50, 51, 52], \"xaxis\": \"x\", \"y\": [null, 12.0, 14.0, null, 7.0, 5.0, null, null, null, null, null, null, 2.0, null, null, null, null, 1.0, null, null, null, null, null, 5.0, 1.0, null, 5.0, 2.0, 2.0, null, null, 6.0, null, 1.0, 4.0, null, 12.0, null, 1.0, null, null, 9.0, null, 1.0, 2.0, 1.0, null, 12.0, null, 5.0, 2.0, null, null], \"yaxis\": \"y\"}, {\"alignmentgroup\": \"True\", \"hovertemplate\": \"variable=# Asian people killed<br>index=%{x}<br>value=%{y}<extra></extra>\", \"legendgroup\": \"# Asian people killed\", \"marker\": {\"color\": \"#ab63fa\"}, \"name\": \"# Asian people killed\", \"offsetgroup\": \"# Asian people killed\", \"orientation\": \"v\", \"showlegend\": true, \"textposition\": \"auto\", \"type\": \"bar\", \"x\": [0, 1, 2, 3, 4, 5, 6, 7, 8, 9, 10, 11, 12, 13, 14, 15, 16, 17, 18, 19, 20, 21, 22, 23, 24, 25, 26, 27, 28, 29, 30, 31, 32, 33, 34, 35, 36, 37, 38, 39, 40, 41, 42, 43, 44, 45, 46, 47, 48, 49, 50, 51, 52], \"xaxis\": \"x\", \"y\": [1.0, null, null, 1.0, 44.0, 4.0, 1.0, null, null, 6.0, 3.0, 2.0, null, 1.0, null, null, null, 1.0, 4.0, null, null, 1.0, 2.0, 7.0, 1.0, null, null, null, 2.0, null, 1.0, 1.0, 1.0, 1.0, null, 4.0, 2.0, null, 1.0, null, 2.0, 1.0, 2.0, 10.0, null, null, 1.0, 5.0, 1.0, 4.0, null, null, null], \"yaxis\": \"y\"}, {\"alignmentgroup\": \"True\", \"hovertemplate\": \"variable=# Pacific Islanders killed<br>index=%{x}<br>value=%{y}<extra></extra>\", \"legendgroup\": \"# Pacific Islanders killed\", \"marker\": {\"color\": \"#FFA15A\"}, \"name\": \"# Pacific Islanders killed\", \"offsetgroup\": \"# Pacific Islanders killed\", \"orientation\": \"v\", \"showlegend\": true, \"textposition\": \"auto\", \"type\": \"bar\", \"x\": [0, 1, 2, 3, 4, 5, 6, 7, 8, 9, 10, 11, 12, 13, 14, 15, 16, 17, 18, 19, 20, 21, 22, 23, 24, 25, 26, 27, 28, 29, 30, 31, 32, 33, 34, 35, 36, 37, 38, 39, 40, 41, 42, 43, 44, 45, 46, 47, 48, 49, 50, 51, 52], \"xaxis\": \"x\", \"y\": [null, null, null, null, 9.0, null, null, null, null, null, null, 22.0, null, null, null, null, null, null, null, null, null, null, 1.0, null, null, 2.0, null, null, null, null, null, null, null, 1.0, null, null, 1.0, null, null, null, null, null, null, null, 2.0, null, null, 4.0, null, null, null, null, null], \"yaxis\": \"y\"}, {\"alignmentgroup\": \"True\", \"hovertemplate\": \"variable=# White people killed<br>index=%{x}<br>value=%{y}<extra></extra>\", \"legendgroup\": \"# White people killed\", \"marker\": {\"color\": \"#19d3f3\"}, \"name\": \"# White people killed\", \"offsetgroup\": \"# White people killed\", \"orientation\": \"v\", \"showlegend\": true, \"textposition\": \"auto\", \"type\": \"bar\", \"x\": [0, 1, 2, 3, 4, 5, 6, 7, 8, 9, 10, 11, 12, 13, 14, 15, 16, 17, 18, 19, 20, 21, 22, 23, 24, 25, 26, 27, 28, 29, 30, 31, 32, 33, 34, 35, 36, 37, 38, 39, 40, 41, 42, 43, 44, 45, 46, 47, 48, 49, 50, 51, 52], \"xaxis\": \"x\", \"y\": [73.0, 15.0, 141.0, 59.0, 333.0, 97.0, 19.0, 8.0, 1.0, 242.0, 109.0, 5.0, 36.0, 49.0, 70.0, 33.0, 49.0, 86.0, 49.0, 27.0, 32.0, 26.0, 56.0, 50.0, 51.0, 93.0, 28.0, 22.0, 57.0, 16.0, 26.0, 41.0, 53.0, 104.0, 7.0, 116.0, 123.0, 87.0, 78.0, 2.0, 67.0, 11.0, 116.0, 258.0, 55.0, 9.0, 51.0, 116.0, 51.0, 63.0, 12.0, null, null], \"yaxis\": \"y\"}, {\"alignmentgroup\": \"True\", \"hovertemplate\": \"variable=# Unknown Race people killed<br>index=%{x}<br>value=%{y}<extra></extra>\", \"legendgroup\": \"# Unknown Race people killed\", \"marker\": {\"color\": \"#FF6692\"}, \"name\": \"# Unknown Race people killed\", \"offsetgroup\": \"# Unknown Race people killed\", \"orientation\": \"v\", \"showlegend\": true, \"textposition\": \"auto\", \"type\": \"bar\", \"x\": [0, 1, 2, 3, 4, 5, 6, 7, 8, 9, 10, 11, 12, 13, 14, 15, 16, 17, 18, 19, 20, 21, 22, 23, 24, 25, 26, 27, 28, 29, 30, 31, 32, 33, 34, 35, 36, 37, 38, 39, 40, 41, 42, 43, 44, 45, 46, 47, 48, 49, 50, 51, 52], \"xaxis\": \"x\", \"y\": [12.0, 8.0, 43.0, 12.0, 118.0, 33.0, 3.0, 3.0, 2.0, 47.0, 42.0, 3.0, 3.0, 14.0, 8.0, 4.0, 7.0, 12.0, 10.0, 3.0, 10.0, 4.0, 18.0, 1.0, 13.0, 23.0, 6.0, 1.0, 9.0, null, 11.0, 12.0, 12.0, 11.0, null, 13.0, 7.0, 8.0, 23.0, null, 11.0, 3.0, 15.0, 74.0, 2.0, 1.0, 13.0, 27.0, 12.0, 4.0, 3.0, null, null], \"yaxis\": \"y\"}],\n",
       "                        {\"barmode\": \"relative\", \"legend\": {\"title\": {\"text\": \"variable\"}, \"tracegroupgap\": 0}, \"margin\": {\"t\": 60}, \"template\": {\"data\": {\"bar\": [{\"error_x\": {\"color\": \"#2a3f5f\"}, \"error_y\": {\"color\": \"#2a3f5f\"}, \"marker\": {\"line\": {\"color\": \"#E5ECF6\", \"width\": 0.5}}, \"type\": \"bar\"}], \"barpolar\": [{\"marker\": {\"line\": {\"color\": \"#E5ECF6\", \"width\": 0.5}}, \"type\": \"barpolar\"}], \"carpet\": [{\"aaxis\": {\"endlinecolor\": \"#2a3f5f\", \"gridcolor\": \"white\", \"linecolor\": \"white\", \"minorgridcolor\": \"white\", \"startlinecolor\": \"#2a3f5f\"}, \"baxis\": {\"endlinecolor\": \"#2a3f5f\", \"gridcolor\": \"white\", \"linecolor\": \"white\", \"minorgridcolor\": \"white\", \"startlinecolor\": \"#2a3f5f\"}, \"type\": \"carpet\"}], \"choropleth\": [{\"colorbar\": {\"outlinewidth\": 0, \"ticks\": \"\"}, \"type\": \"choropleth\"}], \"contour\": [{\"colorbar\": {\"outlinewidth\": 0, \"ticks\": \"\"}, \"colorscale\": [[0.0, \"#0d0887\"], [0.1111111111111111, \"#46039f\"], [0.2222222222222222, \"#7201a8\"], [0.3333333333333333, \"#9c179e\"], [0.4444444444444444, \"#bd3786\"], [0.5555555555555556, \"#d8576b\"], [0.6666666666666666, \"#ed7953\"], [0.7777777777777778, \"#fb9f3a\"], [0.8888888888888888, \"#fdca26\"], [1.0, \"#f0f921\"]], \"type\": \"contour\"}], \"contourcarpet\": [{\"colorbar\": {\"outlinewidth\": 0, \"ticks\": \"\"}, \"type\": \"contourcarpet\"}], \"heatmap\": [{\"colorbar\": {\"outlinewidth\": 0, \"ticks\": \"\"}, \"colorscale\": [[0.0, \"#0d0887\"], [0.1111111111111111, \"#46039f\"], [0.2222222222222222, \"#7201a8\"], [0.3333333333333333, \"#9c179e\"], [0.4444444444444444, \"#bd3786\"], [0.5555555555555556, \"#d8576b\"], [0.6666666666666666, \"#ed7953\"], [0.7777777777777778, \"#fb9f3a\"], [0.8888888888888888, \"#fdca26\"], [1.0, \"#f0f921\"]], \"type\": \"heatmap\"}], \"heatmapgl\": [{\"colorbar\": {\"outlinewidth\": 0, \"ticks\": \"\"}, \"colorscale\": [[0.0, \"#0d0887\"], [0.1111111111111111, \"#46039f\"], [0.2222222222222222, \"#7201a8\"], [0.3333333333333333, \"#9c179e\"], [0.4444444444444444, \"#bd3786\"], [0.5555555555555556, \"#d8576b\"], [0.6666666666666666, \"#ed7953\"], [0.7777777777777778, \"#fb9f3a\"], [0.8888888888888888, \"#fdca26\"], [1.0, \"#f0f921\"]], \"type\": \"heatmapgl\"}], \"histogram\": [{\"marker\": {\"colorbar\": {\"outlinewidth\": 0, \"ticks\": \"\"}}, \"type\": \"histogram\"}], \"histogram2d\": [{\"colorbar\": {\"outlinewidth\": 0, \"ticks\": \"\"}, \"colorscale\": [[0.0, \"#0d0887\"], [0.1111111111111111, \"#46039f\"], [0.2222222222222222, \"#7201a8\"], [0.3333333333333333, \"#9c179e\"], [0.4444444444444444, \"#bd3786\"], [0.5555555555555556, \"#d8576b\"], [0.6666666666666666, \"#ed7953\"], [0.7777777777777778, \"#fb9f3a\"], [0.8888888888888888, \"#fdca26\"], [1.0, \"#f0f921\"]], \"type\": \"histogram2d\"}], \"histogram2dcontour\": [{\"colorbar\": {\"outlinewidth\": 0, \"ticks\": \"\"}, \"colorscale\": [[0.0, \"#0d0887\"], [0.1111111111111111, \"#46039f\"], [0.2222222222222222, \"#7201a8\"], [0.3333333333333333, \"#9c179e\"], [0.4444444444444444, \"#bd3786\"], [0.5555555555555556, \"#d8576b\"], [0.6666666666666666, \"#ed7953\"], [0.7777777777777778, \"#fb9f3a\"], [0.8888888888888888, \"#fdca26\"], [1.0, \"#f0f921\"]], \"type\": \"histogram2dcontour\"}], \"mesh3d\": [{\"colorbar\": {\"outlinewidth\": 0, \"ticks\": \"\"}, \"type\": \"mesh3d\"}], \"parcoords\": [{\"line\": {\"colorbar\": {\"outlinewidth\": 0, \"ticks\": \"\"}}, \"type\": \"parcoords\"}], \"pie\": [{\"automargin\": true, \"type\": \"pie\"}], \"scatter\": [{\"marker\": {\"colorbar\": {\"outlinewidth\": 0, \"ticks\": \"\"}}, \"type\": \"scatter\"}], \"scatter3d\": [{\"line\": {\"colorbar\": {\"outlinewidth\": 0, \"ticks\": \"\"}}, \"marker\": {\"colorbar\": {\"outlinewidth\": 0, \"ticks\": \"\"}}, \"type\": \"scatter3d\"}], \"scattercarpet\": [{\"marker\": {\"colorbar\": {\"outlinewidth\": 0, \"ticks\": \"\"}}, \"type\": \"scattercarpet\"}], \"scattergeo\": [{\"marker\": {\"colorbar\": {\"outlinewidth\": 0, \"ticks\": \"\"}}, \"type\": \"scattergeo\"}], \"scattergl\": [{\"marker\": {\"colorbar\": {\"outlinewidth\": 0, \"ticks\": \"\"}}, \"type\": \"scattergl\"}], \"scattermapbox\": [{\"marker\": {\"colorbar\": {\"outlinewidth\": 0, \"ticks\": \"\"}}, \"type\": \"scattermapbox\"}], \"scatterpolar\": [{\"marker\": {\"colorbar\": {\"outlinewidth\": 0, \"ticks\": \"\"}}, \"type\": \"scatterpolar\"}], \"scatterpolargl\": [{\"marker\": {\"colorbar\": {\"outlinewidth\": 0, \"ticks\": \"\"}}, \"type\": \"scatterpolargl\"}], \"scatterternary\": [{\"marker\": {\"colorbar\": {\"outlinewidth\": 0, \"ticks\": \"\"}}, \"type\": \"scatterternary\"}], \"surface\": [{\"colorbar\": {\"outlinewidth\": 0, \"ticks\": \"\"}, \"colorscale\": [[0.0, \"#0d0887\"], [0.1111111111111111, \"#46039f\"], [0.2222222222222222, \"#7201a8\"], [0.3333333333333333, \"#9c179e\"], [0.4444444444444444, \"#bd3786\"], [0.5555555555555556, \"#d8576b\"], [0.6666666666666666, \"#ed7953\"], [0.7777777777777778, \"#fb9f3a\"], [0.8888888888888888, \"#fdca26\"], [1.0, \"#f0f921\"]], \"type\": \"surface\"}], \"table\": [{\"cells\": {\"fill\": {\"color\": \"#EBF0F8\"}, \"line\": {\"color\": \"white\"}}, \"header\": {\"fill\": {\"color\": \"#C8D4E3\"}, \"line\": {\"color\": \"white\"}}, \"type\": \"table\"}]}, \"layout\": {\"annotationdefaults\": {\"arrowcolor\": \"#2a3f5f\", \"arrowhead\": 0, \"arrowwidth\": 1}, \"coloraxis\": {\"colorbar\": {\"outlinewidth\": 0, \"ticks\": \"\"}}, \"colorscale\": {\"diverging\": [[0, \"#8e0152\"], [0.1, \"#c51b7d\"], [0.2, \"#de77ae\"], [0.3, \"#f1b6da\"], [0.4, \"#fde0ef\"], [0.5, \"#f7f7f7\"], [0.6, \"#e6f5d0\"], [0.7, \"#b8e186\"], [0.8, \"#7fbc41\"], [0.9, \"#4d9221\"], [1, \"#276419\"]], \"sequential\": [[0.0, \"#0d0887\"], [0.1111111111111111, \"#46039f\"], [0.2222222222222222, \"#7201a8\"], [0.3333333333333333, \"#9c179e\"], [0.4444444444444444, \"#bd3786\"], [0.5555555555555556, \"#d8576b\"], [0.6666666666666666, \"#ed7953\"], [0.7777777777777778, \"#fb9f3a\"], [0.8888888888888888, \"#fdca26\"], [1.0, \"#f0f921\"]], \"sequentialminus\": [[0.0, \"#0d0887\"], [0.1111111111111111, \"#46039f\"], [0.2222222222222222, \"#7201a8\"], [0.3333333333333333, \"#9c179e\"], [0.4444444444444444, \"#bd3786\"], [0.5555555555555556, \"#d8576b\"], [0.6666666666666666, \"#ed7953\"], [0.7777777777777778, \"#fb9f3a\"], [0.8888888888888888, \"#fdca26\"], [1.0, \"#f0f921\"]]}, \"colorway\": [\"#636efa\", \"#EF553B\", \"#00cc96\", \"#ab63fa\", \"#FFA15A\", \"#19d3f3\", \"#FF6692\", \"#B6E880\", \"#FF97FF\", \"#FECB52\"], \"font\": {\"color\": \"#2a3f5f\"}, \"geo\": {\"bgcolor\": \"white\", \"lakecolor\": \"white\", \"landcolor\": \"#E5ECF6\", \"showlakes\": true, \"showland\": true, \"subunitcolor\": \"white\"}, \"hoverlabel\": {\"align\": \"left\"}, \"hovermode\": \"closest\", \"mapbox\": {\"style\": \"light\"}, \"paper_bgcolor\": \"white\", \"plot_bgcolor\": \"#E5ECF6\", \"polar\": {\"angularaxis\": {\"gridcolor\": \"white\", \"linecolor\": \"white\", \"ticks\": \"\"}, \"bgcolor\": \"#E5ECF6\", \"radialaxis\": {\"gridcolor\": \"white\", \"linecolor\": \"white\", \"ticks\": \"\"}}, \"scene\": {\"xaxis\": {\"backgroundcolor\": \"#E5ECF6\", \"gridcolor\": \"white\", \"gridwidth\": 2, \"linecolor\": \"white\", \"showbackground\": true, \"ticks\": \"\", \"zerolinecolor\": \"white\"}, \"yaxis\": {\"backgroundcolor\": \"#E5ECF6\", \"gridcolor\": \"white\", \"gridwidth\": 2, \"linecolor\": \"white\", \"showbackground\": true, \"ticks\": \"\", \"zerolinecolor\": \"white\"}, \"zaxis\": {\"backgroundcolor\": \"#E5ECF6\", \"gridcolor\": \"white\", \"gridwidth\": 2, \"linecolor\": \"white\", \"showbackground\": true, \"ticks\": \"\", \"zerolinecolor\": \"white\"}}, \"shapedefaults\": {\"line\": {\"color\": \"#2a3f5f\"}}, \"ternary\": {\"aaxis\": {\"gridcolor\": \"white\", \"linecolor\": \"white\", \"ticks\": \"\"}, \"baxis\": {\"gridcolor\": \"white\", \"linecolor\": \"white\", \"ticks\": \"\"}, \"bgcolor\": \"#E5ECF6\", \"caxis\": {\"gridcolor\": \"white\", \"linecolor\": \"white\", \"ticks\": \"\"}}, \"title\": {\"x\": 0.05}, \"xaxis\": {\"automargin\": true, \"gridcolor\": \"white\", \"linecolor\": \"white\", \"ticks\": \"\", \"title\": {\"standoff\": 15}, \"zerolinecolor\": \"white\", \"zerolinewidth\": 2}, \"yaxis\": {\"automargin\": true, \"gridcolor\": \"white\", \"linecolor\": \"white\", \"ticks\": \"\", \"title\": {\"standoff\": 15}, \"zerolinecolor\": \"white\", \"zerolinewidth\": 2}}}, \"xaxis\": {\"anchor\": \"y\", \"domain\": [0.0, 1.0], \"title\": {\"text\": \"index\"}}, \"yaxis\": {\"anchor\": \"x\", \"domain\": [0.0, 1.0], \"title\": {\"text\": \"value\"}}},\n",
       "                        {\"responsive\": true}\n",
       "                    ).then(function(){\n",
       "                            \n",
       "var gd = document.getElementById('598042b6-1370-4196-9cf1-ef0d362d49fc');\n",
       "var x = new MutationObserver(function (mutations, observer) {{\n",
       "        var display = window.getComputedStyle(gd).display;\n",
       "        if (!display || display === 'none') {{\n",
       "            console.log([gd, 'removed!']);\n",
       "            Plotly.purge(gd);\n",
       "            observer.disconnect();\n",
       "        }}\n",
       "}});\n",
       "\n",
       "// Listen for the removal of the full notebook cells\n",
       "var notebookContainer = gd.closest('#notebook-container');\n",
       "if (notebookContainer) {{\n",
       "    x.observe(notebookContainer, {childList: true});\n",
       "}}\n",
       "\n",
       "// Listen for the clearing of the current output cell\n",
       "var outputEl = gd.closest('.output');\n",
       "if (outputEl) {{\n",
       "    x.observe(outputEl, {childList: true});\n",
       "}}\n",
       "\n",
       "                        })\n",
       "                };\n",
       "                });\n",
       "            </script>\n",
       "        </div>"
      ]
     },
     "metadata": {},
     "output_type": "display_data"
    }
   ],
   "source": [
    "race_dist = state_killings.iloc[:,6:13]\n",
    "\n",
    "fig = px.bar(race_dist)\n",
    "fig.show()"
   ]
  },
  {
   "cell_type": "code",
   "execution_count": 63,
   "metadata": {},
   "outputs": [
    {
     "name": "stdout",
     "output_type": "stream",
     "text": [
      "Black people make up 12.67% of US populationn.\n"
     ]
    }
   ],
   "source": [
    "# Calculating percentage of black people in relation to population\n",
    "percentage = state_killings[\"African-American Alone\"].sum() / state_killings[\"Population\"].sum()\n",
    "print(\"Black people make up {}% of US populationn.\".format(round(percentage*100,2)))"
   ]
  },
  {
   "cell_type": "code",
   "execution_count": null,
   "metadata": {},
   "outputs": [],
   "source": []
  }
 ],
 "metadata": {
  "kernelspec": {
   "display_name": "Python 3",
   "language": "python",
   "name": "python3"
  },
  "language_info": {
   "codemirror_mode": {
    "name": "ipython",
    "version": 3
   },
   "file_extension": ".py",
   "mimetype": "text/x-python",
   "name": "python",
   "nbconvert_exporter": "python",
   "pygments_lexer": "ipython3",
   "version": "3.7.6"
  }
 },
 "nbformat": 4,
 "nbformat_minor": 4
}
